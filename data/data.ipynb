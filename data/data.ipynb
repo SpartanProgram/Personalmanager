{
 "cells": [
  {
   "cell_type": "code",
   "execution_count": 9,
   "id": "3495d7e3",
   "metadata": {},
   "outputs": [],
   "source": [
    "from faker import Faker\n",
    "import random\n",
    "import uuid\n",
    "import pandas as pd"
   ]
  },
  {
   "cell_type": "code",
   "execution_count": 10,
   "id": "6917f811",
   "metadata": {},
   "outputs": [],
   "source": [
    "# Initialisierung\n",
    "fake = Faker(\"de_DE\")"
   ]
  },
  {
   "cell_type": "code",
   "execution_count": 11,
   "id": "9b8053f6",
   "metadata": {},
   "outputs": [],
   "source": [
    "# Kompetenzen Pool\n",
    "#kompetenzen_pool = [\"Schaltungstechnik\", \"Leistungselektronik\", \"Signalverarbeitung\", \"CAD\", \"FEM\", \"Thermodynamik\", \"Mechanik\", \"Machine Learning\", \"Data Engineering\", \"Statistik\", \"Softwarearchitektur\", \"NLP\", \"Python\", \"Datenbanken\", \"KI\", \"Cloud Computing\", \"Agile Methoden\", \"Projektmanagement\", \"Teamführung\", \"Kommunikation\", \"Präsentationstechniken\", \"Quantenphysik\", \"Optik\", \"Statistische Mechanik\", \"Numerische Mathematik\", \"Mathematische Physik\", \"Astronomie\", \"Geophysik\", \"Materialwissenschaften\", \"Nanotechnologie\", \"Biophysik\", \"Medizinische Physik\", \"Photonik\", \"Akustik\", \"Elektromagnetismus\", \"Lineare Algebra\", \"Analysis\", \"Differentialgleichungen\", \"Stochastik\", \"Numerische Analysis\", \"Optimierung\", \"Graphentheorie\", \"Kombinatorik\", \"Mathematische Logik\", \"Topologie\", \"Funktionalanalysis\", \"Komplexe Analysis\", \"Differentialgeometrie\"]\n",
    "kompetenzen_pool = {\n",
    "    \"Maschinenbau\": [\"CAD\", \"FEM\", \"Thermodynamik\", \"Mechanik\"],\n",
    "    \"Elektrotechnik\": [\"Schaltungstechnik\", \"Leistungselektronik\", \"Signalverarbeitung\"],\n",
    "    \"Informatik\": [\"Python\", \"Datenbanken\", \"KI\", \"Softwarearchitektur\"],\n",
    "    \"Physik\": [\"Quantenphysik\", \"Optik\", \"Statistische Mechanik\"],\n",
    "    \"Mathematik\": [\"Lineare Algebra\", \"Stochastik\", \"Numerik\"]\n",
    "}\n",
    "alle_kompetenzen = [k for gruppe in kompetenzen_pool.values() for k in gruppe]"
   ]
  },
  {
   "cell_type": "code",
   "execution_count": null,
   "id": "debbeb37",
   "metadata": {},
   "outputs": [
    {
     "name": "stdout",
     "output_type": "stream",
     "text": [
      "150 Personen gespeichert als 'personen.csv'\n"
     ]
    }
   ],
   "source": [
    "# 150 Personen erzeugen\n",
    "personen = []\n",
    "for _ in range(150):\n",
    "    person = {\n",
    "        \"id\": str(uuid.uuid4()),\n",
    "        \"name\": fake.name(),\n",
    "        \"kompetenzen\": random.sample(alle_kompetenzen, random.randint(1, 4)),\n",
    "        \"zeitbudget\": round(random.uniform(0.4, 1.0), 2)  # 40%–100%-Stellen\n",
    "    }\n",
    "    for monat in range(1, 13):\n",
    "        person[f\"verfuegbarkeit_{monat:02d}/2025\"] = round(random.uniform(0.3, 1.0), 2)\n",
    "    personen.append(person)\n",
    "\n",
    "df_personen = pd.DataFrame(personen)\n",
    "df_personen[\"kompetenzen\"] = df_personen[\"kompetenzen\"].apply(lambda x: \", \".join(x))\n",
    "df_personen.to_csv(\"personen.csv\", index=False)\n",
    "print(\"150 Personen gespeichert als 'personen.csv'\")\n"
   ]
  },
  {
   "cell_type": "code",
   "execution_count": null,
   "id": "b4ac6da3",
   "metadata": {},
   "outputs": [
    {
     "name": "stdout",
     "output_type": "stream",
     "text": [
      "Projekt gespeichert als 'teilaufgaben.csv'\n"
     ]
    }
   ],
   "source": [
    "teilaufgaben = [\n",
    "    {\"bezeichnung\": \"Entwurf CAD-Baugruppe\", \"kompetenz\": \"CAD\", \"aufwand\": 3.0},\n",
    "    {\"bezeichnung\": \"Simulation FEM-Struktur\", \"kompetenz\": \"FEM\", \"aufwand\": 2.5},\n",
    "    {\"bezeichnung\": \"Signalverarbeitung Sensor\", \"kompetenz\": \"Signalverarbeitung\", \"aufwand\": 2.0},\n",
    "    {\"bezeichnung\": \"Entwicklung Python-Modul\", \"kompetenz\": \"Python\", \"aufwand\": 3.5},\n",
    "    {\"bezeichnung\": \"Statistische Auswertung\", \"kompetenz\": \"Stochastik\", \"aufwand\": 2.0},\n",
    "    {\"bezeichnung\": \"Optische Analyse\", \"kompetenz\": \"Optik\", \"aufwand\": 1.5},\n",
    "    {\"bezeichnung\": \"Datenbankmodellierung\", \"kompetenz\": \"Datenbanken\", \"aufwand\": 2.0},\n",
    "    {\"bezeichnung\": \"Thermodynamische Bewertung\", \"kompetenz\": \"Thermodynamik\", \"aufwand\": 3.0}\n",
    "]\n"
   ]
  },
  {
   "cell_type": "code",
   "execution_count": null,
   "id": "0685d7ab",
   "metadata": {},
   "outputs": [],
   "source": [
    "projekt_id = str(uuid.uuid4())\n",
    "for ta in teilaufgaben:\n",
    "    ta[\"teilaufgabe_id\"] = str(uuid.uuid4())\n",
    "    ta[\"projekt_id\"] = projekt_id\n",
    "    ta[\"start\"] = \"03/2025\"\n",
    "    ta[\"ende\"] = \"06/2025\"\n"
   ]
  },
  {
   "cell_type": "code",
   "execution_count": null,
   "id": "5ccb0955",
   "metadata": {},
   "outputs": [],
   "source": [
    "df_teilaufgaben = pd.DataFrame(teilaufgaben)\n",
    "df_teilaufgaben.to_csv(\"teilaufgaben.csv\", index=False)\n",
    "print(\"Projekt gespeichert als 'teilaufgaben.csv'\")"
   ]
  },
  {
   "cell_type": "code",
   "execution_count": null,
   "id": "5eab55a9",
   "metadata": {},
   "outputs": [],
   "source": []
  }
 ],
 "metadata": {
  "kernelspec": {
   "display_name": ".venv",
   "language": "python",
   "name": "python3"
  },
  "language_info": {
   "codemirror_mode": {
    "name": "ipython",
    "version": 3
   },
   "file_extension": ".py",
   "mimetype": "text/x-python",
   "name": "python",
   "nbconvert_exporter": "python",
   "pygments_lexer": "ipython3",
   "version": "3.11.9"
  }
 },
 "nbformat": 4,
 "nbformat_minor": 5
}
