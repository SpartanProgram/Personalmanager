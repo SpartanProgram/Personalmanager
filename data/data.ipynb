{
 "cells": [
  {
   "cell_type": "code",
   "execution_count": 1,
   "id": "3495d7e3",
   "metadata": {},
   "outputs": [],
   "source": [
    "from faker import Faker\n",
    "import random\n",
    "import uuid\n",
    "import pandas as pd\n",
    "fake = Faker()"
   ]
  },
  {
   "cell_type": "code",
   "execution_count": 2,
   "id": "6917f811",
   "metadata": {},
   "outputs": [],
   "source": [
    "# Initialisierung\n",
    "fake = Faker(\"de_DE\")\n",
    "kompetenzen_pool = [\"Machine Learning\", \"Data Engineering\", \"Statistik\", \"Softwarearchitektur\", \"NLP\"]"
   ]
  },
  {
   "cell_type": "code",
   "execution_count": 3,
   "id": "debbeb37",
   "metadata": {},
   "outputs": [],
   "source": [
    "# Personen erzeugen\n",
    "personen = []\n",
    "for _ in range(10):\n",
    "    person = {\n",
    "        \"id\": str(uuid.uuid4()),\n",
    "        \"name\": fake.name(),\n",
    "        \"kompetenzen\": \", \".join(random.sample(kompetenzen_pool, random.randint(1, 3))),\n",
    "        \"zeitbudget\": round(random.uniform(0.5, 1.0), 2)\n",
    "    }\n",
    "    for monat in range(1, 13):\n",
    "        person[f\"verfuegbarkeit_{monat:02d}/2025\"] = round(random.uniform(0.3, 1.0), 2)\n",
    "    personen.append(person)\n"
   ]
  },
  {
   "cell_type": "code",
   "execution_count": 4,
   "id": "2f900eb8",
   "metadata": {},
   "outputs": [],
   "source": [
    "# Projekte und Teilaufgaben erzeugen\n",
    "projekte = []\n",
    "teilaufgaben = []\n",
    "\n",
    "for _ in range(10):\n",
    "    projekt_id = str(uuid.uuid4())\n",
    "    projekt = {\n",
    "        \"projekt_id\": projekt_id,\n",
    "        \"bezeichnung\": fake.catch_phrase(),\n",
    "        \"start\": \"01/2025\",\n",
    "        \"ende\": \"12/2025\"\n",
    "    }\n",
    "    proj_ta = [\n",
    "        {\n",
    "            \"teilaufgabe_id\": str(uuid.uuid4()),\n",
    "            \"projekt_id\": projekt_id,\n",
    "            \"bezeichnung\": fake.bs(),\n",
    "            \"kompetenz\": random.choice(kompetenzen_pool),\n",
    "            \"aufwand\": round(random.uniform(1.0, 5.0), 1),\n",
    "            \"start\": \"03/2025\",\n",
    "            \"ende\": \"06/2025\"\n",
    "        }\n",
    "        for _ in range(random.randint(2, 4))\n",
    "    ]\n",
    "    projekte.append(projekt)\n",
    "    teilaufgaben.extend(proj_ta)\n"
   ]
  },
  {
   "cell_type": "code",
   "execution_count": 5,
   "id": "c8f22fbd",
   "metadata": {},
   "outputs": [
    {
     "name": "stdout",
     "output_type": "stream",
     "text": [
      "CSV-Dateien wurden erfolgreich erstellt: personen.csv, projekte.csv, teilaufgaben.csv\n"
     ]
    }
   ],
   "source": [
    "# In CSV-Dateien schreiben\n",
    "pd.DataFrame(personen).to_csv(\"personen.csv\", index=False)\n",
    "pd.DataFrame(projekte).to_csv(\"projekte.csv\", index=False)\n",
    "pd.DataFrame(teilaufgaben).to_csv(\"teilaufgaben.csv\", index=False)\n",
    "\n",
    "print(\"CSV-Dateien wurden erfolgreich erstellt: personen.csv, projekte.csv, teilaufgaben.csv\")"
   ]
  },
  {
   "cell_type": "code",
   "execution_count": null,
   "id": "5eab55a9",
   "metadata": {},
   "outputs": [],
   "source": []
  }
 ],
 "metadata": {
  "kernelspec": {
   "display_name": ".venv",
   "language": "python",
   "name": "python3"
  },
  "language_info": {
   "codemirror_mode": {
    "name": "ipython",
    "version": 3
   },
   "file_extension": ".py",
   "mimetype": "text/x-python",
   "name": "python",
   "nbconvert_exporter": "python",
   "pygments_lexer": "ipython3",
   "version": "3.12.6"
  }
 },
 "nbformat": 4,
 "nbformat_minor": 5
}
