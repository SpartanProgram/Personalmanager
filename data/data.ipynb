{
 "cells": [
  {
   "cell_type": "code",
   "execution_count": 8,
   "id": "3495d7e3",
   "metadata": {},
   "outputs": [],
   "source": [
    "from faker import Faker\n",
    "import random\n",
    "import uuid\n",
    "import pandas as pd"
   ]
  },
  {
   "cell_type": "code",
   "execution_count": 9,
   "id": "6917f811",
   "metadata": {},
   "outputs": [],
   "source": [
    "# Initialisiere Faker mit deutschem Locale für realistische Namen\n",
    "fake = Faker(\"de_DE\")"
   ]
  },
  {
   "cell_type": "code",
   "execution_count": 10,
   "id": "9b8053f6",
   "metadata": {},
   "outputs": [],
   "source": [
    "# Kompetenzgruppen nach Fachrichtung\n",
    "#kompetenzen_pool = [\"Schaltungstechnik\", \"Leistungselektronik\", \"Signalverarbeitung\", \"CAD\", \"FEM\", \"Thermodynamik\", \"Mechanik\", \"Machine Learning\", \"Data Engineering\", \"Statistik\", \"Softwarearchitektur\", \"NLP\", \"Python\", \"Datenbanken\", \"KI\", \"Cloud Computing\", \"Agile Methoden\", \"Projektmanagement\", \"Teamführung\", \"Kommunikation\", \"Präsentationstechniken\", \"Quantenphysik\", \"Optik\", \"Statistische Mechanik\", \"Numerische Mathematik\", \"Mathematische Physik\", \"Astronomie\", \"Geophysik\", \"Materialwissenschaften\", \"Nanotechnologie\", \"Biophysik\", \"Medizinische Physik\", \"Photonik\", \"Akustik\", \"Elektromagnetismus\", \"Lineare Algebra\", \"Analysis\", \"Differentialgleichungen\", \"Stochastik\", \"Numerische Analysis\", \"Optimierung\", \"Graphentheorie\", \"Kombinatorik\", \"Mathematische Logik\", \"Topologie\", \"Funktionalanalysis\", \"Komplexe Analysis\", \"Differentialgeometrie\"]\n",
    "kompetenzen_pool = {\n",
    "    \"Maschinenbau\": [\"CAD\", \"FEM\", \"Thermodynamik\", \"Mechanik\"],\n",
    "    \"Elektrotechnik\": [\"Schaltungstechnik\", \"Leistungselektronik\", \"Signalverarbeitung\"],\n",
    "    \"Informatik\": [\"Python\", \"Datenbanken\", \"KI\", \"Softwarearchitektur\"],\n",
    "    \"Physik\": [\"Quantenphysik\", \"Optik\", \"Statistische Mechanik\"],\n",
    "    \"Mathematik\": [\"Lineare Algebra\", \"Stochastik\", \"Numerik\"]\n",
    "}"
   ]
  },
  {
   "cell_type": "code",
   "execution_count": 13,
   "id": "a52c9602",
   "metadata": {},
   "outputs": [],
   "source": [
    "# Flache Liste aller verfügbaren Kompetenzen\n",
    "alle_kompetenzen = [k for gruppe in kompetenzen_pool.values() for k in gruppe]\n",
    "\n",
    "# Verfügbare Projekte (für Zuweisung/Simulation)\n",
    "projekt_ids = [\"PROJ-A\", \"PROJ-B\", \"PROJ-C\"]"
   ]
  },
  {
   "cell_type": "code",
   "execution_count": 16,
   "id": "debbeb37",
   "metadata": {},
   "outputs": [
    {
     "name": "stdout",
     "output_type": "stream",
     "text": [
      "150 Personen gespeichert als 'personen.csv'\n"
     ]
    }
   ],
   "source": [
    "# Erzeuge 150 synthetische Personen mit Fähigkeiten und Verfügbarkeiten\n",
    "def generiere_personen(anzahl: int = 150) -> pd.DataFrame:\n",
    "    \"\"\"\n",
    "    Generiert eine Liste von Personen mit zufälligen Kompetenzen und monatlicher Verfügbarkeit.\n",
    "\n",
    "    Args:\n",
    "        anzahl (int): Anzahl der zu generierenden Personen.\n",
    "\n",
    "    Returns:\n",
    "        pd.DataFrame: DataFrame mit Personeninformationen.\n",
    "    \"\"\"\n",
    "    personen = []\n",
    "    for _ in range(anzahl):\n",
    "        person = {\n",
    "            \"id\": str(uuid.uuid4()),\n",
    "            \"name\": fake.name(),\n",
    "            \"kompetenzen\": random.sample(alle_kompetenzen, random.randint(1, 4)),\n",
    "            \"zeitbudget\": round(random.uniform(0.4, 1.0), 2)  # Arbeitszeitanteil zwischen 40 % und 100 %\n",
    "        }\n",
    "        # Verfügbarkeit für jeden Monat im Jahr 2025 generieren\n",
    "        for monat in range(1, 13):\n",
    "            monat_label = f\"{monat:02d}/2025\"\n",
    "            \n",
    "            # Zuweisung zu einem Projekt oder \"Frei\" (also verfügbar für neues Matching)\n",
    "            projekt = random.choices(projekt_ids + [\"Frei\"], weights=[0.25, 0.25, 0.25, 0.25])[0]\n",
    "            \n",
    "            person[f\"projektbelegung_{monat_label}\"] = projekt\n",
    "            \n",
    "            # Verfügbarkeit nur eintragen, wenn \"Frei\" oder später passender Projekt-Match\n",
    "            if projekt == \"Frei\":\n",
    "                person[f\"verfuegbarkeit_{monat_label}\"] = round(random.uniform(0.4, 1.0), 2)\n",
    "            else:\n",
    "                person[f\"verfuegbarkeit_{monat_label}\"] = 0.0  # Keine Kapazität in gebuchten Monaten\n",
    "\n",
    "        personen.append(person)\n",
    "\n",
    "    df = pd.DataFrame(personen)\n",
    "    # Kompetenzen als durch Kommas getrennten String speichern\n",
    "    df[\"kompetenzen\"] = df[\"kompetenzen\"].apply(lambda x: \", \".join(x))\n",
    "    return df\n",
    "\n",
    "# Speichere generierte Personen in CSV\n",
    "df_personen = generiere_personen()\n",
    "df_personen.to_csv(\"personen.csv\", index=False)\n",
    "print(\"150 Personen gespeichert als 'personen.csv'\")"
   ]
  },
  {
   "cell_type": "code",
   "execution_count": 17,
   "id": "b4ac6da3",
   "metadata": {},
   "outputs": [],
   "source": [
    "# Beispielhafte Projektaufgaben mit zugehöriger Kompetenz und Aufwand\n",
    "teilaufgaben = [\n",
    "    {\"bezeichnung\": \"Entwurf CAD-Baugruppe\", \"kompetenz\": \"CAD\", \"aufwand\": 3.0},\n",
    "    {\"bezeichnung\": \"Simulation FEM-Struktur\", \"kompetenz\": \"FEM\", \"aufwand\": 2.5},\n",
    "    {\"bezeichnung\": \"Signalverarbeitung Sensor\", \"kompetenz\": \"Signalverarbeitung\", \"aufwand\": 2.0},\n",
    "    {\"bezeichnung\": \"Entwicklung Python-Modul\", \"kompetenz\": \"Python\", \"aufwand\": 3.5},\n",
    "    {\"bezeichnung\": \"Statistische Auswertung\", \"kompetenz\": \"Stochastik\", \"aufwand\": 2.0},\n",
    "    {\"bezeichnung\": \"Optische Analyse\", \"kompetenz\": \"Optik\", \"aufwand\": 1.5},\n",
    "    {\"bezeichnung\": \"Datenbankmodellierung\", \"kompetenz\": \"Datenbanken\", \"aufwand\": 2.0},\n",
    "    {\"bezeichnung\": \"Thermodynamische Bewertung\", \"kompetenz\": \"Thermodynamik\", \"aufwand\": 3.0}\n",
    "]"
   ]
  },
  {
   "cell_type": "code",
   "execution_count": 18,
   "id": "5eab55a9",
   "metadata": {},
   "outputs": [
    {
     "name": "stdout",
     "output_type": "stream",
     "text": [
      "Projekt gespeichert als 'teilaufgaben.csv'\n"
     ]
    }
   ],
   "source": [
    "# Ergänze Aufgaben um Projekt- und Teilaufgaben-IDs sowie Zeiträume\n",
    "def erweitere_teilaufgaben(teilaufgaben: list, projekt_id: str) -> pd.DataFrame:\n",
    "    \"\"\"\n",
    "    Ergänzt Teilaufgaben um UUIDs und Zeitinformationen.\n",
    "\n",
    "    Args:\n",
    "        teilaufgaben (list): Liste von Aufgaben als Dictionaries.\n",
    "        projekt_id (str): Gemeinsame Projekt-ID für alle Aufgaben.\n",
    "\n",
    "    Returns:\n",
    "        pd.DataFrame: DataFrame mit erweiterten Teilaufgaben.\n",
    "    \"\"\"\n",
    "    for ta in teilaufgaben:\n",
    "        ta[\"teilaufgabe_id\"] = str(uuid.uuid4())\n",
    "        ta[\"projekt_id\"] = projekt_id\n",
    "        ta[\"start\"] = \"03/2025\"\n",
    "        ta[\"ende\"] = \"06/2025\"\n",
    "    return pd.DataFrame(teilaufgaben)\n",
    "\n",
    "projekt_id = str(uuid.uuid4())\n",
    "df_teilaufgaben = erweitere_teilaufgaben(teilaufgaben, projekt_id)\n",
    "df_teilaufgaben.to_csv(\"teilaufgaben.csv\", index=False)\n",
    "print(\"Projekt gespeichert als 'teilaufgaben.csv'\")"
   ]
  },
  {
   "cell_type": "code",
   "execution_count": null,
   "id": "02905201",
   "metadata": {},
   "outputs": [],
   "source": []
  }
 ],
 "metadata": {
  "kernelspec": {
   "display_name": ".venv",
   "language": "python",
   "name": "python3"
  },
  "language_info": {
   "codemirror_mode": {
    "name": "ipython",
    "version": 3
   },
   "file_extension": ".py",
   "mimetype": "text/x-python",
   "name": "python",
   "nbconvert_exporter": "python",
   "pygments_lexer": "ipython3",
   "version": "3.11.9"
  }
 },
 "nbformat": 4,
 "nbformat_minor": 5
}
