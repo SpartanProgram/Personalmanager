{
 "cells": [
  {
   "cell_type": "code",
   "execution_count": null,
   "id": "89e9e899",
   "metadata": {},
   "outputs": [],
   "source": [
    "# Projektabhängigkeiten importieren\n",
    "\n",
    "import torch\n",
    "import sklearn\n",
    "from faker import Faker\n",
    "import matplotlib.pyplot as plt\n",
    "import pandas as pd\n",
    "import numpy as np\n",
    "import seaborn as sns\n"
   ]
  }
 ],
 "metadata": {
  "language_info": {
   "name": "python"
  }
 },
 "nbformat": 4,
 "nbformat_minor": 5
}
