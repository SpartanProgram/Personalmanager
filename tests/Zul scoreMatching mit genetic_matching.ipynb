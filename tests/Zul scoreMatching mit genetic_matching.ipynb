{
 "cells": [
  {
   "cell_type": "code",
   "execution_count": 1,
   "id": "70073158",
   "metadata": {},
   "outputs": [],
   "source": [
    "import pandas as pd\n",
    "import numpy as np\n",
    "from scipy.optimize import linear_sum_assignment\n",
    "import random\n",
    "import math\n",
    "import time\n",
    "from genetic_matching import genetic_matching_with_elite"
   ]
  },
  {
   "cell_type": "markdown",
   "id": "8e4d1659",
   "metadata": {},
   "source": [
    "Daten laden und vorbereiten"
   ]
  },
  {
   "cell_type": "code",
   "execution_count": 2,
   "id": "dc8ab590",
   "metadata": {},
   "outputs": [],
   "source": [
    "# Lade die CSV-Dateien mit Personen, Teilaufgaben und Projekten\n",
    "personen_df = pd.read_csv(\"../data/personen.csv\")\n",
    "teilaufgaben_df = pd.read_csv(\"../data/teilaufgaben.csv\")"
   ]
  },
  {
   "cell_type": "code",
   "execution_count": 3,
   "id": "51bd6792",
   "metadata": {},
   "outputs": [
    {
     "name": "stdout",
     "output_type": "stream",
     "text": [
      "Loaded: 150 people, 8 tasks\n",
      "Total workload: 19.5 hours\n"
     ]
    }
   ],
   "source": [
    "# Wandle die Kompetenzen in eine Liste um, um Filterung zu erleichtern\n",
    "personen_df[\"kompetenzen_liste\"] = personen_df[\"kompetenzen\"].str.split(r\",\\s*\")\n",
    "\n",
    "print(f\"Loaded: {len(personen_df)} people, {len(teilaufgaben_df)} tasks\")\n",
    "print(f\"Total workload: {teilaufgaben_df['aufwand'].sum():.1f} hours\")"
   ]
  },
  {
   "cell_type": "markdown",
   "id": "9169bcff",
   "metadata": {},
   "source": [
    "Initialisierung"
   ]
  },
  {
   "cell_type": "code",
   "execution_count": 4,
   "id": "e93d6a78",
   "metadata": {},
   "outputs": [],
   "source": [
    "# Belegungstracker: Speichert die bereits verplante Kapazität je Person und Monat\n",
    "belegungen = {}"
   ]
  },
  {
   "cell_type": "code",
   "execution_count": 5,
   "id": "24a3188b",
   "metadata": {},
   "outputs": [],
   "source": [
    "# Liste zur Speicherung der Zuweisungsergebnisse\n",
    "matching_ergebnisse = []"
   ]
  },
  {
   "cell_type": "code",
   "execution_count": 6,
   "id": "cba4045a",
   "metadata": {},
   "outputs": [
    {
     "name": "stdout",
     "output_type": "stream",
     "text": [
      "\n",
      "==================================================\n",
      "GENETIC ALGORITHM MATCHING\n",
      "==================================================\n"
     ]
    }
   ],
   "source": [
    "# Run Hungarian Algorithm\n",
    "print(\"\\n\" + \"=\"*50)\n",
    "print(\"GENETIC ALGORITHM MATCHING\")\n",
    "print(\"=\"*50)"
   ]
  },
  {
   "cell_type": "code",
   "execution_count": 7,
   "id": "32ddf68d",
   "metadata": {},
   "outputs": [
    {
     "name": "stdout",
     "output_type": "stream",
     "text": [
      "\n",
      "=== Enhanced Genetic Algorithm ===\n",
      "\n",
      "Trying parameter set 1/3\n",
      "\n",
      "=== Genetic Algorithm ===\n",
      "Population size: 50\n",
      "Generations: 100\n",
      "Tasks: 8, People: 150\n",
      "Generation 0: Best=-7393.8 (Note: 1.00), Avg=-8536.5 (Note: 3.68)\n",
      "Generation 20: Best=-5927.4 (Note: 1.00), Avg=-6253.6 (Note: 4.38)\n",
      "Generation 40: Best=-4820.8 (Note: 1.00), Avg=-5442.3 (Note: 3.82)\n",
      "Generation 60: Best=-4820.8 (Note: 1.00), Avg=-5197.6 (Note: 4.35)\n",
      "Generation 80: Best=-4820.8 (Note: 1.00), Avg=-5325.7 (Note: 4.40)\n",
      "Generation 99: Best=-4820.8 (Note: 1.00), Avg=-5248.0 (Note: 4.18)\n",
      "Execution time: 3.437 seconds\n",
      "Best fitness: -4820.8\n",
      "Found assignments: 8\n",
      "\n",
      "Trying parameter set 2/3\n",
      "\n",
      "=== Genetic Algorithm ===\n",
      "Population size: 100\n",
      "Generations: 150\n",
      "Tasks: 8, People: 150\n",
      "Generation 0: Best=-7393.5 (Note: 1.00), Avg=-8498.9 (Note: 3.46)\n",
      "Generation 20: Best=-5325.9 (Note: 1.00), Avg=-5725.9 (Note: 3.96)\n",
      "Generation 40: Best=-4392.2 (Note: 1.00), Avg=-5268.6 (Note: 3.45)\n",
      "Generation 60: Best=-4392.2 (Note: 1.00), Avg=-4589.4 (Note: 4.51)\n",
      "Generation 80: Best=-4392.2 (Note: 1.00), Avg=-4605.6 (Note: 4.43)\n",
      "Generation 100: Best=-4392.2 (Note: 1.00), Avg=-4627.3 (Note: 4.40)\n",
      "Generation 120: Best=-4392.2 (Note: 1.00), Avg=-4669.2 (Note: 4.57)\n",
      "Generation 140: Best=-4392.2 (Note: 1.00), Avg=-4575.9 (Note: 4.66)\n",
      "Generation 149: Best=-4392.2 (Note: 1.00), Avg=-4590.0 (Note: 4.64)\n",
      "Execution time: 10.356 seconds\n",
      "Best fitness: -4392.2\n",
      "Found assignments: 8\n",
      "\n",
      "Trying parameter set 3/3\n",
      "\n",
      "=== Genetic Algorithm ===\n",
      "Population size: 75\n",
      "Generations: 200\n",
      "Tasks: 8, People: 150\n",
      "Generation 0: Best=-7546.2 (Note: 1.00), Avg=-8511.8 (Note: 3.80)\n",
      "Generation 20: Best=-5325.6 (Note: 1.00), Avg=-6055.4 (Note: 4.06)\n",
      "Generation 40: Best=-4392.2 (Note: 1.00), Avg=-5495.8 (Note: 3.52)\n",
      "Generation 60: Best=-4392.2 (Note: 1.00), Avg=-5422.1 (Note: 3.56)\n",
      "Generation 80: Best=-4392.2 (Note: 1.00), Avg=-5372.0 (Note: 3.48)\n",
      "Generation 100: Best=-4392.2 (Note: 1.00), Avg=-5541.1 (Note: 3.53)\n",
      "Generation 120: Best=-4392.2 (Note: 1.00), Avg=-5531.3 (Note: 3.73)\n",
      "Generation 140: Best=-4392.2 (Note: 1.00), Avg=-5263.0 (Note: 3.90)\n",
      "Generation 160: Best=-4392.2 (Note: 1.00), Avg=-5461.9 (Note: 3.56)\n",
      "Generation 180: Best=-4392.2 (Note: 1.00), Avg=-5516.2 (Note: 3.80)\n",
      "Generation 199: Best=-4392.2 (Note: 1.00), Avg=-5507.1 (Note: 3.93)\n",
      "Execution time: 9.848 seconds\n",
      "Best fitness: -4392.2\n",
      "Found assignments: 8\n"
     ]
    }
   ],
   "source": [
    "genetic_results, genetic_time = genetic_matching_with_elite(teilaufgaben_df, personen_df)"
   ]
  },
  {
   "cell_type": "code",
   "execution_count": 8,
   "id": "d9c544a5",
   "metadata": {},
   "outputs": [
    {
     "name": "stdout",
     "output_type": "stream",
     "text": [
      "\n",
      "Genetic Algorithm Results:\n",
      "Found 8 assignments\n",
      "Execution time: 23.649 seconds\n"
     ]
    }
   ],
   "source": [
    "for result in genetic_results:\n",
    "    matching_ergebnisse.append({\n",
    "        \"teilaufgabe_id\": result[\"teilaufgabe_id\"],\n",
    "        \"teilaufgabe\": result[\"teilaufgabe\"],\n",
    "        \"projekt_id\": result[\"projekt_id\"],\n",
    "        \"kompetenz\": result[\"kompetenz\"],\n",
    "        \"person_id\": result[\"person_id\"],\n",
    "        \"name\": result[\"name\"],\n",
    "        \"zugewiesener_aufwand\": result[\"zugewiesener_aufwand\"]\n",
    "    })\n",
    "\n",
    "print(f\"\\nGenetic Algorithm Results:\")\n",
    "print(f\"Found {len(matching_ergebnisse)} assignments\")\n",
    "print(f\"Execution time: {genetic_time:.3f} seconds\")"
   ]
  },
  {
   "cell_type": "code",
   "execution_count": 9,
   "id": "011efc21",
   "metadata": {},
   "outputs": [
    {
     "name": "stdout",
     "output_type": "stream",
     "text": [
      "\n",
      "==================================================\n",
      "RESULTS SUMMARY\n",
      "==================================================\n",
      "Total assignments: 8\n",
      "Total workload assigned: 19.5 hours\n",
      "Total workload needed: 19.5 hours\n"
     ]
    }
   ],
   "source": [
    "# Display results summary\n",
    "print(f\"\\n\" + \"=\"*50)\n",
    "print(\"RESULTS SUMMARY\")\n",
    "print(\"=\"*50)\n",
    "print(f\"Total assignments: {len(matching_ergebnisse)}\")\n",
    "print(f\"Total workload assigned: {sum(item['zugewiesener_aufwand'] for item in matching_ergebnisse):.1f} hours\")\n",
    "print(f\"Total workload needed: {teilaufgaben_df['aufwand'].sum():.1f} hours\")"
   ]
  },
  {
   "cell_type": "code",
   "execution_count": 10,
   "id": "705b6139",
   "metadata": {},
   "outputs": [
    {
     "name": "stdout",
     "output_type": "stream",
     "text": [
      "\n",
      "Assignments by task:\n",
      "  - Entwurf CAD-Baugruppe: 3.0/3.0 hours assigned\n",
      "  - Simulation FEM-Struktur: 2.5/2.5 hours assigned\n",
      "  - Signalverarbeitung Sensor: 2.0/2.0 hours assigned\n",
      "  - Entwicklung Python-Modul: 3.5/3.5 hours assigned\n",
      "  - Statistische Auswertung: 2.0/2.0 hours assigned\n",
      "  - Optische Analyse: 1.5/1.5 hours assigned\n",
      "  - Datenbankmodellierung: 2.0/2.0 hours assigned\n",
      "  - Thermodynamische Bewertung: 3.0/3.0 hours assigned\n"
     ]
    }
   ],
   "source": [
    "# Show assignments by task\n",
    "print(f\"\\nAssignments by task:\")\n",
    "for _, ta in teilaufgaben_df.iterrows():\n",
    "    task_assignments = [item for item in matching_ergebnisse if item['teilaufgabe_id'] == ta['teilaufgabe_id']]\n",
    "    assigned_workload = sum(item['zugewiesener_aufwand'] for item in task_assignments)\n",
    "    print(f\"  - {ta['bezeichnung']}: {assigned_workload:.1f}/{ta['aufwand']:.1f} hours assigned\")"
   ]
  },
  {
   "cell_type": "markdown",
   "id": "392d4264",
   "metadata": {},
   "source": [
    "Ergebnisse speichern"
   ]
  },
  {
   "cell_type": "code",
   "execution_count": 11,
   "id": "b755e3a1",
   "metadata": {},
   "outputs": [
    {
     "name": "stdout",
     "output_type": "stream",
     "text": [
      "\n",
      "Matching abgeschlossen! Ergebnisse gespeichert in 'matching_ergebnis.csv'\n"
     ]
    }
   ],
   "source": [
    "# Save results\n",
    "df_matching = pd.DataFrame(matching_ergebnisse)\n",
    "df_matching.to_csv(\"matching mit genetic_ergebnis.csv\", index=False)\n",
    "print(f\"\\nMatching abgeschlossen! Ergebnisse gespeichert in 'matching_ergebnis.csv'\")"
   ]
  },
  {
   "cell_type": "code",
   "execution_count": null,
   "id": "d20a32c5",
   "metadata": {},
   "outputs": [],
   "source": []
  }
 ],
 "metadata": {
  "kernelspec": {
   "display_name": ".cenv",
   "language": "python",
   "name": "python3"
  },
  "language_info": {
   "codemirror_mode": {
    "name": "ipython",
    "version": 3
   },
   "file_extension": ".py",
   "mimetype": "text/x-python",
   "name": "python",
   "nbconvert_exporter": "python",
   "pygments_lexer": "ipython3",
   "version": "3.11.12"
  }
 },
 "nbformat": 4,
 "nbformat_minor": 5
}
