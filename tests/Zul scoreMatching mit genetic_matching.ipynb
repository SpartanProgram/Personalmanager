{
 "cells": [
  {
   "cell_type": "code",
   "execution_count": 19,
   "id": "288756d1",
   "metadata": {},
   "outputs": [],
   "source": [
    "import pandas as pd\n",
    "import numpy as np\n",
    "from scipy.optimize import linear_sum_assignment\n",
    "import random\n",
    "import math\n",
    "import time\n",
    "from genetic_matching import genetic_matching_with_elite"
   ]
  },
  {
   "cell_type": "code",
   "execution_count": 20,
   "id": "bb95f488",
   "metadata": {},
   "outputs": [],
   "source": [
    "# Lade die CSV-Dateien mit Personen, Teilaufgaben und Projekten\n",
    "personen_df = pd.read_csv(\"../data/personen.csv\")\n",
    "teilaufgaben_df = pd.read_csv(\"../data/teilaufgaben.csv\")"
   ]
  },
  {
   "cell_type": "code",
   "execution_count": 21,
   "id": "309c1d68",
   "metadata": {},
   "outputs": [
    {
     "name": "stdout",
     "output_type": "stream",
     "text": [
      "Loaded: 150 people, 8 tasks\n",
      "Total workload: 19.5 hours\n"
     ]
    }
   ],
   "source": [
    "# Wandle die Kompetenzen in eine Liste um, um Filterung zu erleichtern\n",
    "personen_df[\"kompetenzen_liste\"] = personen_df[\"kompetenzen\"].str.split(r\",\\s*\")\n",
    "\n",
    "print(f\"Loaded: {len(personen_df)} people, {len(teilaufgaben_df)} tasks\")\n",
    "print(f\"Total workload: {teilaufgaben_df['aufwand'].sum():.1f} hours\")"
   ]
  },
  {
   "cell_type": "code",
   "execution_count": 22,
   "id": "c8350cf5",
   "metadata": {},
   "outputs": [],
   "source": [
    "# Belegungstracker: Speichert die bereits verplante Kapazität je Person und Monat\n",
    "belegungen = {}"
   ]
  },
  {
   "cell_type": "code",
   "execution_count": 23,
   "id": "ea31d322",
   "metadata": {},
   "outputs": [],
   "source": [
    "# Liste zur Speicherung der Zuweisungsergebnisse\n",
    "matching_ergebnisse = []"
   ]
  },
  {
   "cell_type": "code",
   "execution_count": 24,
   "id": "476ef446",
   "metadata": {},
   "outputs": [
    {
     "name": "stdout",
     "output_type": "stream",
     "text": [
      "\n",
      "=== Enhanced Genetic Algorithm ===\n",
      "\n",
      "Trying parameter set 1/3\n",
      "\n",
      "=== Genetic Algorithm ===\n",
      "Population size: 50\n",
      "Generations: 100\n",
      "Tasks: 8, People: 150\n"
     ]
    },
    {
     "ename": "UnboundLocalError",
     "evalue": "cannot access local variable 'assigned_workload' where it is not associated with a value",
     "output_type": "error",
     "traceback": [
      "\u001b[31m---------------------------------------------------------------------------\u001b[39m",
      "\u001b[31mUnboundLocalError\u001b[39m                         Traceback (most recent call last)",
      "\u001b[36mCell\u001b[39m\u001b[36m \u001b[39m\u001b[32mIn[24]\u001b[39m\u001b[32m, line 1\u001b[39m\n\u001b[32m----> \u001b[39m\u001b[32m1\u001b[39m genetic_results, genetic_time = \u001b[43mgenetic_matching_with_elite\u001b[49m\u001b[43m(\u001b[49m\u001b[43mteilaufgaben_df\u001b[49m\u001b[43m,\u001b[49m\u001b[43m \u001b[49m\u001b[43mpersonen_df\u001b[49m\u001b[43m)\u001b[49m\n",
      "\u001b[36mFile \u001b[39m\u001b[32m~/Git/team-10-personalmanager-gfai-bvvi-1/tests/genetic_matching.py:257\u001b[39m, in \u001b[36mgenetic_matching_with_elite\u001b[39m\u001b[34m(teilaufgaben_df, personen_df, population_size, generations)\u001b[39m\n\u001b[32m    255\u001b[39m \u001b[38;5;28;01mfor\u001b[39;00m i, params \u001b[38;5;129;01min\u001b[39;00m \u001b[38;5;28menumerate\u001b[39m(param_combinations):\n\u001b[32m    256\u001b[39m     \u001b[38;5;28mprint\u001b[39m(\u001b[33mf\u001b[39m\u001b[33m\"\u001b[39m\u001b[38;5;130;01m\\n\u001b[39;00m\u001b[33mTrying parameter set \u001b[39m\u001b[38;5;132;01m{\u001b[39;00mi+\u001b[32m1\u001b[39m\u001b[38;5;132;01m}\u001b[39;00m\u001b[33m/\u001b[39m\u001b[38;5;132;01m{\u001b[39;00m\u001b[38;5;28mlen\u001b[39m(param_combinations)\u001b[38;5;132;01m}\u001b[39;00m\u001b[33m\"\u001b[39m)\n\u001b[32m--> \u001b[39m\u001b[32m257\u001b[39m     results, _ = \u001b[43mgenetic_algorithm_matching\u001b[49m\u001b[43m(\u001b[49m\n\u001b[32m    258\u001b[39m \u001b[43m        \u001b[49m\u001b[43mteilaufgaben_df\u001b[49m\u001b[43m,\u001b[49m\u001b[43m \u001b[49m\u001b[43mpersonen_df\u001b[49m\u001b[43m,\u001b[49m\u001b[43m \u001b[49m\u001b[43m*\u001b[49m\u001b[43m*\u001b[49m\u001b[43mparams\u001b[49m\n\u001b[32m    259\u001b[39m \u001b[43m    \u001b[49m\u001b[43m)\u001b[49m\n\u001b[32m    261\u001b[39m     \u001b[38;5;66;03m# Calculate fitness of this result\u001b[39;00m\n\u001b[32m    262\u001b[39m     assignment = []\n",
      "\u001b[36mFile \u001b[39m\u001b[32m~/Git/team-10-personalmanager-gfai-bvvi-1/tests/genetic_matching.py:173\u001b[39m, in \u001b[36mgenetic_algorithm_matching\u001b[39m\u001b[34m(teilaufgaben_df, personen_df, population_size, generations, mutation_rate, crossover_rate, tournament_size)\u001b[39m\n\u001b[32m    171\u001b[39m fitness_scores = []\n\u001b[32m    172\u001b[39m \u001b[38;5;28;01mfor\u001b[39;00m assignment \u001b[38;5;129;01min\u001b[39;00m population:\n\u001b[32m--> \u001b[39m\u001b[32m173\u001b[39m     fitness = \u001b[43mcalculate_fitness\u001b[49m\u001b[43m(\u001b[49m\u001b[43massignment\u001b[49m\u001b[43m,\u001b[49m\u001b[43m \u001b[49m\u001b[43mteilaufgaben_df\u001b[49m\u001b[43m,\u001b[49m\u001b[43m \u001b[49m\u001b[43mpersonen_df\u001b[49m\u001b[43m)\u001b[49m\n\u001b[32m    174\u001b[39m     fitness_scores.append(fitness)\n\u001b[32m    176\u001b[39m     \u001b[38;5;66;03m# Track best solution\u001b[39;00m\n",
      "\u001b[36mFile \u001b[39m\u001b[32m~/Git/team-10-personalmanager-gfai-bvvi-1/tests/genetic_matching.py:82\u001b[39m, in \u001b[36mcalculate_fitness\u001b[39m\u001b[34m(assignment, teilaufgaben_df, personen_df, belegungen)\u001b[39m\n\u001b[32m     76\u001b[39m \u001b[38;5;66;03m# Calculate workload coverage bonus\u001b[39;00m\n\u001b[32m     77\u001b[39m     assigned_workload = \u001b[38;5;28msum\u001b[39m(\n\u001b[32m     78\u001b[39m         row[\u001b[33m\"\u001b[39m\u001b[33maufwand\u001b[39m\u001b[33m\"\u001b[39m]\n\u001b[32m     79\u001b[39m         \u001b[38;5;28;01mfor\u001b[39;00m i, (idx, row) \u001b[38;5;129;01min\u001b[39;00m \u001b[38;5;28menumerate\u001b[39m(teilaufgaben_df.iterrows())\n\u001b[32m     80\u001b[39m         \u001b[38;5;28;01mif\u001b[39;00m assignment[i] < \u001b[38;5;28mlen\u001b[39m(personen_df)\n\u001b[32m     81\u001b[39m         \u001b[38;5;129;01mand\u001b[39;00m row[\u001b[33m\"\u001b[39m\u001b[33mkompetenz\u001b[39m\u001b[33m\"\u001b[39m] \u001b[38;5;129;01min\u001b[39;00m personen_df.iloc[assignment[i]][\u001b[33m\"\u001b[39m\u001b[33mkompetenzen_liste\u001b[39m\u001b[33m\"\u001b[39m])\n\u001b[32m---> \u001b[39m\u001b[32m82\u001b[39m \u001b[43mtotal_workload\u001b[49m = teilaufgaben_df[\u001b[33m\"\u001b[39m\u001b[33maufwand\u001b[39m\u001b[33m\"\u001b[39m].sum()\n\u001b[32m     83\u001b[39m coverage_bonus = (assigned_workload / total_workload) * \u001b[32m1000\u001b[39m\n\u001b[32m     85\u001b[39m \u001b[38;5;28;01mreturn\u001b[39;00m total_score + coverage_bonus - constraint_penalty\n",
      "\u001b[31mUnboundLocalError\u001b[39m: cannot access local variable 'assigned_workload' where it is not associated with a value"
     ]
    }
   ],
   "source": [
    "genetic_results, genetic_time = genetic_matching_with_elite(teilaufgaben_df, personen_df)"
   ]
  },
  {
   "cell_type": "code",
   "execution_count": 7,
   "id": "4c2d60b6",
   "metadata": {},
   "outputs": [
    {
     "ename": "NameError",
     "evalue": "name 'genetic_results' is not defined",
     "output_type": "error",
     "traceback": [
      "\u001b[31m---------------------------------------------------------------------------\u001b[39m",
      "\u001b[31mNameError\u001b[39m                                 Traceback (most recent call last)",
      "\u001b[36mCell\u001b[39m\u001b[36m \u001b[39m\u001b[32mIn[7]\u001b[39m\u001b[32m, line 1\u001b[39m\n\u001b[32m----> \u001b[39m\u001b[32m1\u001b[39m \u001b[38;5;28;01mfor\u001b[39;00m result \u001b[38;5;129;01min\u001b[39;00m \u001b[43mgenetic_results\u001b[49m:\n\u001b[32m      2\u001b[39m     matching_ergebnisse.append({\n\u001b[32m      3\u001b[39m         \u001b[33m\"\u001b[39m\u001b[33mteilaufgabe_id\u001b[39m\u001b[33m\"\u001b[39m: result[\u001b[33m\"\u001b[39m\u001b[33mteilaufgabe_id\u001b[39m\u001b[33m\"\u001b[39m],\n\u001b[32m      4\u001b[39m         \u001b[33m\"\u001b[39m\u001b[33mteilaufgabe\u001b[39m\u001b[33m\"\u001b[39m: result[\u001b[33m\"\u001b[39m\u001b[33mteilaufgabe\u001b[39m\u001b[33m\"\u001b[39m],\n\u001b[32m   (...)\u001b[39m\u001b[32m      9\u001b[39m         \u001b[33m\"\u001b[39m\u001b[33mzugewiesener_aufwand\u001b[39m\u001b[33m\"\u001b[39m: result[\u001b[33m\"\u001b[39m\u001b[33mzugewiesener_aufwand\u001b[39m\u001b[33m\"\u001b[39m]\n\u001b[32m     10\u001b[39m     })\n\u001b[32m     12\u001b[39m \u001b[38;5;28mprint\u001b[39m(\u001b[33mf\u001b[39m\u001b[33m\"\u001b[39m\u001b[38;5;130;01m\\n\u001b[39;00m\u001b[33mGenetic Algorithm Results:\u001b[39m\u001b[33m\"\u001b[39m)\n",
      "\u001b[31mNameError\u001b[39m: name 'genetic_results' is not defined"
     ]
    }
   ],
   "source": [
    "for result in genetic_results:\n",
    "    matching_ergebnisse.append({\n",
    "        \"teilaufgabe_id\": result[\"teilaufgabe_id\"],\n",
    "        \"teilaufgabe\": result[\"teilaufgabe\"],\n",
    "        \"projekt_id\": result[\"projekt_id\"],\n",
    "        \"kompetenz\": result[\"kompetenz\"],\n",
    "        \"person_id\": result[\"person_id\"],\n",
    "        \"name\": result[\"name\"],\n",
    "        \"zugewiesener_aufwand\": result[\"zugewiesener_aufwand\"]\n",
    "    })\n",
    "\n",
    "print(f\"\\nGenetic Algorithm Results:\")\n",
    "print(f\"Found {len(matching_ergebnisse)} assignments\")\n",
    "print(f\"Execution time: {genetic_time:.3f} seconds\")"
   ]
  },
  {
   "cell_type": "code",
   "execution_count": 8,
   "id": "5abfae0d",
   "metadata": {},
   "outputs": [
    {
     "name": "stdout",
     "output_type": "stream",
     "text": [
      "\n",
      "==================================================\n",
      "RESULTS SUMMARY\n",
      "==================================================\n",
      "Total assignments: 0\n",
      "Total workload assigned: 0.0 hours\n",
      "Total workload needed: 19.5 hours\n"
     ]
    }
   ],
   "source": [
    "# Display results summary\n",
    "print(f\"\\n\" + \"=\"*50)\n",
    "print(\"RESULTS SUMMARY\")\n",
    "print(\"=\"*50)\n",
    "print(f\"Total assignments: {len(matching_ergebnisse)}\")\n",
    "print(f\"Total workload assigned: {sum(item['zugewiesener_aufwand'] for item in matching_ergebnisse):.1f} hours\")\n",
    "print(f\"Total workload needed: {teilaufgaben_df['aufwand'].sum():.1f} hours\")"
   ]
  },
  {
   "cell_type": "code",
   "execution_count": 9,
   "id": "7a154f80",
   "metadata": {},
   "outputs": [
    {
     "name": "stdout",
     "output_type": "stream",
     "text": [
      "\n",
      "Assignments by task:\n",
      "  - Entwurf CAD-Baugruppe: 0.0/3.0 hours assigned\n",
      "  - Simulation FEM-Struktur: 0.0/2.5 hours assigned\n",
      "  - Signalverarbeitung Sensor: 0.0/2.0 hours assigned\n",
      "  - Entwicklung Python-Modul: 0.0/3.5 hours assigned\n",
      "  - Statistische Auswertung: 0.0/2.0 hours assigned\n",
      "  - Optische Analyse: 0.0/1.5 hours assigned\n",
      "  - Datenbankmodellierung: 0.0/2.0 hours assigned\n",
      "  - Thermodynamische Bewertung: 0.0/3.0 hours assigned\n"
     ]
    }
   ],
   "source": [
    "# Show assignments by task\n",
    "print(f\"\\nAssignments by task:\")\n",
    "for _, ta in teilaufgaben_df.iterrows():\n",
    "    task_assignments = [item for item in matching_ergebnisse if item['teilaufgabe_id'] == ta['teilaufgabe_id']]\n",
    "    assigned_workload = sum(item['zugewiesener_aufwand'] for item in task_assignments)\n",
    "    print(f\"  - {ta['bezeichnung']}: {assigned_workload:.1f}/{ta['aufwand']:.1f} hours assigned\")"
   ]
  },
  {
   "cell_type": "code",
   "execution_count": 95,
   "id": "5abe8888",
   "metadata": {},
   "outputs": [
    {
     "name": "stdout",
     "output_type": "stream",
     "text": [
      "\n",
      "Matching abgeschlossen! Ergebnisse gespeichert in 'matching_ergebnis.csv'\n"
     ]
    }
   ],
   "source": [
    "# Save results\n",
    "df_matching = pd.DataFrame(matching_ergebnisse)\n",
    "df_matching.to_csv(\"matching_ergebnis.csv\", index=False)\n",
    "print(f\"\\nMatching abgeschlossen! Ergebnisse gespeichert in 'matching_ergebnis.csv'\")"
   ]
  }
 ],
 "metadata": {
  "kernelspec": {
   "display_name": ".cenv",
   "language": "python",
   "name": "python3"
  },
  "language_info": {
   "codemirror_mode": {
    "name": "ipython",
    "version": 3
   },
   "file_extension": ".py",
   "mimetype": "text/x-python",
   "name": "python",
   "nbconvert_exporter": "python",
   "pygments_lexer": "ipython3",
   "version": "3.11.12"
  }
 },
 "nbformat": 4,
 "nbformat_minor": 5
}
