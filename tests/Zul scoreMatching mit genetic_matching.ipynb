{
 "cells": [
  {
   "cell_type": "code",
   "execution_count": 1,
   "id": "70073158",
   "metadata": {},
   "outputs": [],
   "source": [
    "import pandas as pd\n",
    "import numpy as np\n",
    "from scipy.optimize import linear_sum_assignment\n",
    "import random\n",
    "import math\n",
    "import time\n",
    "from genetic_matching import genetic_matching_with_elite"
   ]
  },
  {
   "cell_type": "markdown",
   "id": "8e4d1659",
   "metadata": {},
   "source": [
    "Daten laden und vorbereiten"
   ]
  },
  {
   "cell_type": "code",
   "execution_count": 2,
   "id": "dc8ab590",
   "metadata": {},
   "outputs": [],
   "source": [
    "# Lade die CSV-Dateien mit Personen, Teilaufgaben und Projekten\n",
    "personen_df = pd.read_csv(\"../data/personen.csv\")\n",
    "teilaufgaben_df = pd.read_csv(\"../data/teilaufgaben.csv\")"
   ]
  },
  {
   "cell_type": "code",
   "execution_count": 3,
   "id": "51bd6792",
   "metadata": {},
   "outputs": [
    {
     "name": "stdout",
     "output_type": "stream",
     "text": [
      "Loaded: 150 people, 8 tasks\n",
      "Total workload: 19.5 hours\n"
     ]
    }
   ],
   "source": [
    "# Wandle die Kompetenzen in eine Liste um, um Filterung zu erleichtern\n",
    "personen_df[\"kompetenzen_liste\"] = personen_df[\"kompetenzen\"].str.split(r\",\\s*\")\n",
    "\n",
    "print(f\"Loaded: {len(personen_df)} people, {len(teilaufgaben_df)} tasks\")\n",
    "print(f\"Total workload: {teilaufgaben_df['aufwand'].sum():.1f} hours\")"
   ]
  },
  {
   "cell_type": "markdown",
   "id": "9169bcff",
   "metadata": {},
   "source": [
    "Initialisierung"
   ]
  },
  {
   "cell_type": "code",
   "execution_count": 4,
   "id": "e93d6a78",
   "metadata": {},
   "outputs": [],
   "source": [
    "# Belegungstracker: Speichert die bereits verplante Kapazität je Person und Monat\n",
    "belegungen = {}"
   ]
  },
  {
   "cell_type": "code",
   "execution_count": 5,
   "id": "24a3188b",
   "metadata": {},
   "outputs": [],
   "source": [
    "# Liste zur Speicherung der Zuweisungsergebnisse\n",
    "matching_ergebnisse = []"
   ]
  },
  {
   "cell_type": "code",
   "execution_count": 6,
   "id": "cba4045a",
   "metadata": {},
   "outputs": [
    {
     "name": "stdout",
     "output_type": "stream",
     "text": [
      "\n",
      "==================================================\n",
      "GENETIC ALGORITHM MATCHING\n",
      "==================================================\n"
     ]
    }
   ],
   "source": [
    "# Run Hungarian Algorithm\n",
    "print(\"\\n\" + \"=\"*50)\n",
    "print(\"GENETIC ALGORITHM MATCHING\")\n",
    "print(\"=\"*50)"
   ]
  },
  {
   "cell_type": "code",
   "execution_count": 10,
   "id": "32ddf68d",
   "metadata": {},
   "outputs": [
    {
     "name": "stdout",
     "output_type": "stream",
     "text": [
      "\n",
      "=== Enhanced Genetic Algorithm ===\n",
      "\n",
      "Trying parameter set 1/3\n",
      "\n",
      "=== Genetic Algorithm ===\n",
      "Population size: 50\n",
      "Generations: 100\n",
      "Tasks: 8, People: 150\n",
      "Generation 0: Best=-7597.4, Avg=-8577.2\n",
      "Generation 20: Best=-7440.9, Avg=-7611.3\n",
      "Generation 40: Best=-7038.4, Avg=-7188.2\n",
      "Generation 60: Best=-7038.4, Avg=-7326.4\n",
      "Generation 80: Best=-6584.5, Avg=-6754.3\n",
      "Generation 99: Best=-6130.7, Avg=-6415.3\n",
      "Execution time: 3.169 seconds\n",
      "Best fitness: -6130.7\n",
      "Found assignments: 8\n",
      "\n",
      "Trying parameter set 2/3\n",
      "\n",
      "=== Genetic Algorithm ===\n",
      "Population size: 100\n",
      "Generations: 150\n",
      "Tasks: 8, People: 150\n",
      "Generation 0: Best=-8000.0, Avg=-8691.2\n",
      "Generation 20: Best=-7066.7, Avg=-7154.6\n",
      "Generation 40: Best=-6130.7, Avg=-6291.0\n",
      "Generation 60: Best=-5728.1, Avg=-5894.9\n",
      "Generation 80: Best=-5728.1, Avg=-5860.8\n",
      "Generation 100: Best=-5728.1, Avg=-5889.5\n",
      "Generation 120: Best=-5728.1, Avg=-5939.3\n",
      "Generation 140: Best=-5728.1, Avg=-5875.3\n",
      "Generation 149: Best=-5728.1, Avg=-5894.9\n",
      "Execution time: 11.374 seconds\n",
      "Best fitness: -5728.1\n",
      "Found assignments: 8\n",
      "\n",
      "Trying parameter set 3/3\n",
      "\n",
      "=== Genetic Algorithm ===\n",
      "Population size: 75\n",
      "Generations: 200\n",
      "Tasks: 8, People: 150\n",
      "Generation 0: Best=-8000.0, Avg=-8559.7\n",
      "Generation 20: Best=-6261.5, Avg=-7005.8\n",
      "Generation 40: Best=-6261.5, Avg=-6767.1\n",
      "Generation 60: Best=-5728.1, Avg=-6389.8\n",
      "Generation 80: Best=-5728.1, Avg=-6238.1\n",
      "Generation 100: Best=-5728.1, Avg=-6320.2\n",
      "Generation 120: Best=-5728.1, Avg=-6416.0\n",
      "Generation 140: Best=-5728.1, Avg=-6338.5\n",
      "Generation 160: Best=-5728.1, Avg=-6456.3\n",
      "Generation 180: Best=-5728.1, Avg=-6484.5\n",
      "Generation 199: Best=-5728.1, Avg=-6241.7\n",
      "Execution time: 10.673 seconds\n",
      "Best fitness: -5728.1\n",
      "Found assignments: 8\n"
     ]
    }
   ],
   "source": [
    "genetic_results, genetic_time = genetic_matching_with_elite(teilaufgaben_df, personen_df)"
   ]
  },
  {
   "cell_type": "code",
   "execution_count": 11,
   "id": "d9c544a5",
   "metadata": {},
   "outputs": [
    {
     "name": "stdout",
     "output_type": "stream",
     "text": [
      "\n",
      "Genetic Algorithm Results:\n",
      "Found 24 assignments\n",
      "Execution time: 25.224 seconds\n"
     ]
    }
   ],
   "source": [
    "for result in genetic_results:\n",
    "    matching_ergebnisse.append({\n",
    "        \"teilaufgabe_id\": result[\"teilaufgabe_id\"],\n",
    "        \"teilaufgabe\": result[\"teilaufgabe\"],\n",
    "        \"projekt_id\": result[\"projekt_id\"],\n",
    "        \"kompetenz\": result[\"kompetenz\"],\n",
    "        \"person_id\": result[\"person_id\"],\n",
    "        \"name\": result[\"name\"],\n",
    "        \"zugewiesener_aufwand\": result[\"zugewiesener_aufwand\"]\n",
    "    })\n",
    "\n",
    "print(f\"\\nGenetic Algorithm Results:\")\n",
    "print(f\"Found {len(matching_ergebnisse)} assignments\")\n",
    "print(f\"Execution time: {genetic_time:.3f} seconds\")"
   ]
  },
  {
   "cell_type": "code",
   "execution_count": 12,
   "id": "011efc21",
   "metadata": {},
   "outputs": [
    {
     "name": "stdout",
     "output_type": "stream",
     "text": [
      "\n",
      "==================================================\n",
      "RESULTS SUMMARY\n",
      "==================================================\n",
      "Total assignments: 24\n",
      "Total workload assigned: 58.5 hours\n",
      "Total workload needed: 19.5 hours\n"
     ]
    }
   ],
   "source": [
    "# Display results summary\n",
    "print(f\"\\n\" + \"=\"*50)\n",
    "print(\"RESULTS SUMMARY\")\n",
    "print(\"=\"*50)\n",
    "print(f\"Total assignments: {len(matching_ergebnisse)}\")\n",
    "print(f\"Total workload assigned: {sum(item['zugewiesener_aufwand'] for item in matching_ergebnisse):.1f} hours\")\n",
    "print(f\"Total workload needed: {teilaufgaben_df['aufwand'].sum():.1f} hours\")"
   ]
  },
  {
   "cell_type": "code",
   "execution_count": 13,
   "id": "705b6139",
   "metadata": {},
   "outputs": [
    {
     "name": "stdout",
     "output_type": "stream",
     "text": [
      "\n",
      "Assignments by task:\n",
      "  - Entwurf CAD-Baugruppe: 9.0/3.0 hours assigned\n",
      "  - Simulation FEM-Struktur: 7.5/2.5 hours assigned\n",
      "  - Signalverarbeitung Sensor: 6.0/2.0 hours assigned\n",
      "  - Entwicklung Python-Modul: 10.5/3.5 hours assigned\n",
      "  - Statistische Auswertung: 6.0/2.0 hours assigned\n",
      "  - Optische Analyse: 4.5/1.5 hours assigned\n",
      "  - Datenbankmodellierung: 6.0/2.0 hours assigned\n",
      "  - Thermodynamische Bewertung: 9.0/3.0 hours assigned\n"
     ]
    }
   ],
   "source": [
    "# Show assignments by task\n",
    "print(f\"\\nAssignments by task:\")\n",
    "for _, ta in teilaufgaben_df.iterrows():\n",
    "    task_assignments = [item for item in matching_ergebnisse if item['teilaufgabe_id'] == ta['teilaufgabe_id']]\n",
    "    assigned_workload = sum(item['zugewiesener_aufwand'] for item in task_assignments)\n",
    "    print(f\"  - {ta['bezeichnung']}: {assigned_workload:.1f}/{ta['aufwand']:.1f} hours assigned\")"
   ]
  },
  {
   "cell_type": "markdown",
   "id": "392d4264",
   "metadata": {},
   "source": [
    "Ergebnisse speichern"
   ]
  },
  {
   "cell_type": "code",
   "execution_count": 14,
   "id": "b755e3a1",
   "metadata": {},
   "outputs": [
    {
     "name": "stdout",
     "output_type": "stream",
     "text": [
      "\n",
      "Matching abgeschlossen! Ergebnisse gespeichert in 'matching_ergebnis.csv'\n"
     ]
    }
   ],
   "source": [
    "# Save results\n",
    "df_matching = pd.DataFrame(matching_ergebnisse)\n",
    "df_matching.to_csv(\"matching_ergebnis.csv\", index=False)\n",
    "print(f\"\\nMatching abgeschlossen! Ergebnisse gespeichert in 'matching_ergebnis.csv'\")"
   ]
  },
  {
   "cell_type": "code",
   "execution_count": null,
   "id": "d20a32c5",
   "metadata": {},
   "outputs": [],
   "source": []
  }
 ],
 "metadata": {
  "kernelspec": {
   "display_name": ".cenv",
   "language": "python",
   "name": "python3"
  },
  "language_info": {
   "codemirror_mode": {
    "name": "ipython",
    "version": 3
   },
   "file_extension": ".py",
   "mimetype": "text/x-python",
   "name": "python",
   "nbconvert_exporter": "python",
   "pygments_lexer": "ipython3",
   "version": "3.11.12"
  }
 },
 "nbformat": 4,
 "nbformat_minor": 5
}
