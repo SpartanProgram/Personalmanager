{
 "cells": [
  {
   "cell_type": "code",
   "execution_count": 85,
   "id": "288756d1",
   "metadata": {},
   "outputs": [],
   "source": [
    "import pandas as pd\n",
    "import numpy as np\n",
    "from scipy.optimize import linear_sum_assignment\n",
    "import random\n",
    "import math\n",
    "import time\n",
    "from hungarian_matching import hungarian_matching"
   ]
  },
  {
   "cell_type": "code",
   "execution_count": 86,
   "id": "bb95f488",
   "metadata": {},
   "outputs": [],
   "source": [
    "# Lade die CSV-Dateien mit Personen, Teilaufgaben und Projekten\n",
    "personen_df = pd.read_csv(\"../data/personen.csv\")\n",
    "teilaufgaben_df = pd.read_csv(\"../data/teilaufgaben.csv\")"
   ]
  },
  {
   "cell_type": "code",
   "execution_count": 87,
   "id": "309c1d68",
   "metadata": {},
   "outputs": [
    {
     "name": "stdout",
     "output_type": "stream",
     "text": [
      "Loaded: 150 people, 8 tasks\n",
      "Total workload: 19.5 hours\n"
     ]
    }
   ],
   "source": [
    "# Wandle die Kompetenzen in eine Liste um, um Filterung zu erleichtern\n",
    "personen_df[\"kompetenzen_liste\"] = personen_df[\"kompetenzen\"].str.split(r\",\\s*\")\n",
    "\n",
    "print(f\"Loaded: {len(personen_df)} people, {len(teilaufgaben_df)} tasks\")\n",
    "print(f\"Total workload: {teilaufgaben_df['aufwand'].sum():.1f} hours\")"
   ]
  },
  {
   "cell_type": "code",
   "execution_count": 88,
   "id": "c8350cf5",
   "metadata": {},
   "outputs": [],
   "source": [
    "# Belegungstracker: Speichert die bereits verplante Kapazität je Person und Monat\n",
    "belegungen = {}"
   ]
  },
  {
   "cell_type": "code",
   "execution_count": 89,
   "id": "ea31d322",
   "metadata": {},
   "outputs": [],
   "source": [
    "# Liste zur Speicherung der Zuweisungsergebnisse\n",
    "matching_ergebnisse = []"
   ]
  },
  {
   "cell_type": "code",
   "execution_count": 90,
   "id": "6e7d7ccf",
   "metadata": {},
   "outputs": [
    {
     "name": "stdout",
     "output_type": "stream",
     "text": [
      "\n",
      "==================================================\n",
      "HUNGARIAN ALGORITHM MATCHING\n",
      "==================================================\n"
     ]
    }
   ],
   "source": [
    "# Run Hungarian Algorithm\n",
    "print(\"\\n\" + \"=\"*50)\n",
    "print(\"HUNGARIAN ALGORITHM MATCHING\")\n",
    "print(\"=\"*50)"
   ]
  },
  {
   "cell_type": "code",
   "execution_count": 96,
   "id": "476ef446",
   "metadata": {},
   "outputs": [
    {
     "name": "stdout",
     "output_type": "stream",
     "text": [
      "\n",
      "=== Hungarian Algorithm ===\n",
      "Execution time: 0.027 seconds\n",
      "Found assignments: 8\n",
      "Total score: 7999992.00\n"
     ]
    }
   ],
   "source": [
    "hungarian_results, hungarian_time = hungarian_matching(teilaufgaben_df, personen_df)"
   ]
  },
  {
   "cell_type": "code",
   "execution_count": 92,
   "id": "4c2d60b6",
   "metadata": {},
   "outputs": [
    {
     "name": "stdout",
     "output_type": "stream",
     "text": [
      "\n",
      "Hungarian Algorithm Results:\n",
      "Found 8 assignments\n",
      "Execution time: 0.045 seconds\n"
     ]
    }
   ],
   "source": [
    "for result in hungarian_results:\n",
    "    matching_ergebnisse.append({\n",
    "        \"teilaufgabe_id\": result[\"teilaufgabe_id\"],\n",
    "        \"teilaufgabe\": result[\"teilaufgabe\"],\n",
    "        \"projekt_id\": result[\"projekt_id\"],\n",
    "        \"kompetenz\": result[\"kompetenz\"],\n",
    "        \"person_id\": result[\"person_id\"],\n",
    "        \"name\": result[\"name\"],\n",
    "        \"zugewiesener_aufwand\": result[\"zugewiesener_aufwand\"]\n",
    "    })\n",
    "\n",
    "print(f\"\\nHungarian Algorithm Results:\")\n",
    "print(f\"Found {len(matching_ergebnisse)} assignments\")\n",
    "print(f\"Execution time: {hungarian_time:.3f} seconds\")"
   ]
  },
  {
   "cell_type": "code",
   "execution_count": 93,
   "id": "5abfae0d",
   "metadata": {},
   "outputs": [
    {
     "name": "stdout",
     "output_type": "stream",
     "text": [
      "\n",
      "==================================================\n",
      "RESULTS SUMMARY\n",
      "==================================================\n",
      "Total assignments: 8\n",
      "Total workload assigned: 19.5 hours\n",
      "Total workload needed: 19.5 hours\n"
     ]
    }
   ],
   "source": [
    "# Display results summary\n",
    "print(f\"\\n\" + \"=\"*50)\n",
    "print(\"RESULTS SUMMARY\")\n",
    "print(\"=\"*50)\n",
    "print(f\"Total assignments: {len(matching_ergebnisse)}\")\n",
    "print(f\"Total workload assigned: {sum(item['zugewiesener_aufwand'] for item in matching_ergebnisse):.1f} hours\")\n",
    "print(f\"Total workload needed: {teilaufgaben_df['aufwand'].sum():.1f} hours\")"
   ]
  },
  {
   "cell_type": "code",
   "execution_count": 94,
   "id": "7a154f80",
   "metadata": {},
   "outputs": [
    {
     "name": "stdout",
     "output_type": "stream",
     "text": [
      "\n",
      "Assignments by task:\n",
      "  - Entwurf CAD-Baugruppe: 3.0/3.0 hours assigned\n",
      "  - Simulation FEM-Struktur: 2.5/2.5 hours assigned\n",
      "  - Signalverarbeitung Sensor: 2.0/2.0 hours assigned\n",
      "  - Entwicklung Python-Modul: 3.5/3.5 hours assigned\n",
      "  - Statistische Auswertung: 2.0/2.0 hours assigned\n",
      "  - Optische Analyse: 1.5/1.5 hours assigned\n",
      "  - Datenbankmodellierung: 2.0/2.0 hours assigned\n",
      "  - Thermodynamische Bewertung: 3.0/3.0 hours assigned\n"
     ]
    }
   ],
   "source": [
    "# Show assignments by task\n",
    "print(f\"\\nAssignments by task:\")\n",
    "for _, ta in teilaufgaben_df.iterrows():\n",
    "    task_assignments = [item for item in matching_ergebnisse if item['teilaufgabe_id'] == ta['teilaufgabe_id']]\n",
    "    assigned_workload = sum(item['zugewiesener_aufwand'] for item in task_assignments)\n",
    "    print(f\"  - {ta['bezeichnung']}: {assigned_workload:.1f}/{ta['aufwand']:.1f} hours assigned\")"
   ]
  },
  {
   "cell_type": "code",
   "execution_count": 95,
   "id": "5abe8888",
   "metadata": {},
   "outputs": [
    {
     "name": "stdout",
     "output_type": "stream",
     "text": [
      "\n",
      "Matching abgeschlossen! Ergebnisse gespeichert in 'matching_ergebnis.csv'\n"
     ]
    }
   ],
   "source": [
    "# Save results\n",
    "df_matching = pd.DataFrame(matching_ergebnisse)\n",
    "df_matching.to_csv(\"matching_ergebnis.csv\", index=False)\n",
    "print(f\"\\nMatching abgeschlossen! Ergebnisse gespeichert in 'matching_ergebnis.csv'\")"
   ]
  }
 ],
 "metadata": {
  "kernelspec": {
   "display_name": ".cenv",
   "language": "python",
   "name": "python3"
  },
  "language_info": {
   "codemirror_mode": {
    "name": "ipython",
    "version": 3
   },
   "file_extension": ".py",
   "mimetype": "text/x-python",
   "name": "python",
   "nbconvert_exporter": "python",
   "pygments_lexer": "ipython3",
   "version": "3.11.12"
  }
 },
 "nbformat": 4,
 "nbformat_minor": 5
}
