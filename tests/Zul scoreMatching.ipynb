{
 "cells": [
  {
   "cell_type": "code",
   "execution_count": 1,
   "id": "70073158",
   "metadata": {},
   "outputs": [],
   "source": [
    "import pandas as pd"
   ]
  },
  {
   "cell_type": "markdown",
   "id": "8e4d1659",
   "metadata": {},
   "source": [
    "Daten laden und vorbereiten"
   ]
  },
  {
   "cell_type": "code",
   "execution_count": 2,
   "id": "dc8ab590",
   "metadata": {},
   "outputs": [],
   "source": [
    "# Lade die CSV-Dateien mit Personen, Teilaufgaben und Projekten\n",
    "personen_df = pd.read_csv(\"../data/personen.csv\")\n",
    "teilaufgaben_df = pd.read_csv(\"../data/teilaufgaben.csv\")"
   ]
  },
  {
   "cell_type": "code",
   "execution_count": 3,
   "id": "51bd6792",
   "metadata": {},
   "outputs": [],
   "source": [
    "# Wandle die Kompetenzen in eine Liste um, um Filterung zu erleichtern\n",
    "personen_df[\"kompetenzen_liste\"] = personen_df[\"kompetenzen\"].str.split(r\",\\s*\")"
   ]
  },
  {
   "cell_type": "markdown",
   "id": "9169bcff",
   "metadata": {},
   "source": [
    "Initialisierung"
   ]
  },
  {
   "cell_type": "code",
   "execution_count": 4,
   "id": "e93d6a78",
   "metadata": {},
   "outputs": [],
   "source": [
    "# Belegungstracker: Speichert die bereits verplante Kapazität je Person und Monat\n",
    "belegungen = {}"
   ]
  },
  {
   "cell_type": "code",
   "execution_count": 5,
   "id": "24a3188b",
   "metadata": {},
   "outputs": [],
   "source": [
    "# Liste zur Speicherung der Zuweisungsergebnisse\n",
    "matching_ergebnisse = []"
   ]
  },
  {
   "cell_type": "markdown",
   "id": "f647ac25",
   "metadata": {},
   "source": [
    "Matching-Logik"
   ]
  },
  {
   "cell_type": "code",
   "execution_count": 6,
   "id": "d9c544a5",
   "metadata": {},
   "outputs": [],
   "source": [
    "def berechne_verfuegbarkeit(person, ta_start, ta_ende, belegungen):\n",
    "    \"\"\"\n",
    "    Prüft die Verfügbarkeit einer Person für eine gegebene Zeitspanne.\n",
    "\n",
    "    Args:\n",
    "        person (pd.Series): Personendatensatz.\n",
    "        ta_start (int): Startmonat (numerisch).\n",
    "        ta_ende (int): Endmonat (numerisch).\n",
    "        belegungen (dict): Bisherige Belegungen.\n",
    "\n",
    "    Returns:\n",
    "        tuple: (bool verfügbar, float verfügbare Gesamtkapazität, dict verfügbarkeit je Monat)\n",
    "    \"\"\"\n",
    "    person_id = person[\"id\"]\n",
    "    verfügbar = True\n",
    "    verfügbarkeit_summe = 0\n",
    "    monatliche_restwerte = {}\n",
    "\n",
    "    for monat in range(ta_start, ta_ende + 1):\n",
    "        monat_label = f\"{monat:02d}/2025\"\n",
    "        verfügbarkeit = person.get(f\"verfuegbarkeit_{monat_label}\", 0)\n",
    "        belegt = belegungen.get(person_id, {}).get(monat_label, 0)\n",
    "        rest = max(0, verfügbarkeit - belegt)\n",
    "        monatliche_restwerte[monat_label] = rest\n",
    "\n",
    "        if rest <= 0:\n",
    "            verfügbar = False\n",
    "            break\n",
    "        verfügbarkeit_summe += rest\n",
    "\n",
    "    return verfügbar, verfügbarkeit_summe, monatliche_restwerte\n"
   ]
  },
  {
   "cell_type": "code",
   "execution_count": 7,
   "id": "011efc21",
   "metadata": {},
   "outputs": [
    {
     "name": "stdout",
     "output_type": "stream",
     "text": [
      "Verfügbare Kandidaten für: Entwurf CAD-Baugruppe → 1\n",
      "Verfügbare Kandidaten für: Simulation FEM-Struktur → 1\n",
      "Verfügbare Kandidaten für: Signalverarbeitung Sensor → 0\n",
      "Verfügbare Kandidaten für: Entwicklung Python-Modul → 0\n",
      "Verfügbare Kandidaten für: Statistische Auswertung → 0\n",
      "Verfügbare Kandidaten für: Optische Analyse → 0\n",
      "Verfügbare Kandidaten für: Datenbankmodellierung → 0\n",
      "Verfügbare Kandidaten für: Thermodynamische Bewertung → 0\n"
     ]
    }
   ],
   "source": [
    "# Hauptloop über alle Teilaufgaben\n",
    "for _, ta in teilaufgaben_df.iterrows():\n",
    "    ta_start = int(ta[\"start\"].split(\"/\")[0])\n",
    "    ta_ende = int(ta[\"ende\"].split(\"/\")[0])\n",
    "    ta_monate = ta_ende - ta_start + 1\n",
    "    ta_monatsaufwand = ta[\"aufwand\"] / ta_monate\n",
    "    restaufwand = ta[\"aufwand\"]\n",
    "    kandidaten = []\n",
    "\n",
    "    # Filtere Personen, die die benötigte Kompetenz besitzen\n",
    "    for _, person in personen_df.iterrows():\n",
    "        if ta[\"kompetenz\"] not in person[\"kompetenzen_liste\"]:\n",
    "            continue\n",
    "\n",
    "        verfügbar, verf_summe, monatliche_restwerte = berechne_verfuegbarkeit(person, ta_start, ta_ende, belegungen)\n",
    "\n",
    "        if verfügbar and verf_summe > 0:\n",
    "            score = round(verf_summe * person[\"zeitbudget\"], 2)\n",
    "            kandidaten.append((person, score, verf_summe, monatliche_restwerte))\n",
    "\n",
    "    # Sortiere Kandidaten nach ihrer nutzbaren Kapazität (absteigend)\n",
    "    kandidaten = sorted(kandidaten, key=lambda x: x[1], reverse=True)\n",
    "\n",
    "    # Weise Kapazität zu, bis Aufwand gedeckt ist oder keine Ressourcen mehr vorhanden\n",
    "    for person, score, verf_summe, eintrag_monate in kandidaten:\n",
    "        if restaufwand <= 0:\n",
    "            break\n",
    "\n",
    "        pid = person[\"id\"]\n",
    "        if pid not in belegungen:\n",
    "            belegungen[pid] = {}\n",
    "\n",
    "        verfügbarkeit_gesamt = sum(eintrag_monate.values())\n",
    "        if verfügbarkeit_gesamt == 0:\n",
    "            continue\n",
    "\n",
    "        anteil = min(restaufwand, verfügbarkeit_gesamt)\n",
    "        monatsanteil = anteil / ta_monate\n",
    "\n",
    "        # Speichere Matching-Ergebnis\n",
    "        matching_ergebnisse.append({\n",
    "            \"teilaufgabe_id\": ta[\"teilaufgabe_id\"],\n",
    "            \"teilaufgabe\": ta[\"bezeichnung\"],\n",
    "            \"projekt_id\": ta[\"projekt_id\"],\n",
    "            \"kompetenz\": ta[\"kompetenz\"],\n",
    "            \"person_id\": pid,\n",
    "            \"name\": person[\"name\"],\n",
    "            \"zugewiesener_aufwand\": round(anteil, 2)\n",
    "        })\n",
    "\n",
    "        # Aktualisiere belegte Verfügbarkeiten\n",
    "        for monat_label in eintrag_monate:\n",
    "            verbrauch = min(monatsanteil, eintrag_monate[monat_label])\n",
    "            belegungen[pid][monat_label] = belegungen[pid].get(monat_label, 0) + verbrauch\n",
    "\n",
    "        restaufwand -= anteil\n",
    "\n",
    "    print(f\"Verfügbare Kandidaten für: {ta['bezeichnung']} → {len(kandidaten)}\")\n"
   ]
  },
  {
   "cell_type": "markdown",
   "id": "392d4264",
   "metadata": {},
   "source": [
    "Ergebnisse speichern"
   ]
  },
  {
   "cell_type": "code",
   "execution_count": 8,
   "id": "b755e3a1",
   "metadata": {},
   "outputs": [
    {
     "name": "stdout",
     "output_type": "stream",
     "text": [
      "Matching abgeschlossen! Ergebnisse gespeichert in 'matching_ergebnis.csv'\n"
     ]
    }
   ],
   "source": [
    "df_matching = pd.DataFrame(matching_ergebnisse)\n",
    "df_matching.to_csv(\"matching_ergebnis.csv\", index=False)\n",
    "print(\"Matching abgeschlossen! Ergebnisse gespeichert in 'matching_ergebnis.csv'\")"
   ]
  },
  {
   "cell_type": "code",
   "execution_count": null,
   "id": "d20a32c5",
   "metadata": {},
   "outputs": [],
   "source": []
  }
 ],
 "metadata": {
  "kernelspec": {
   "display_name": ".cenv",
   "language": "python",
   "name": "python3"
  },
  "language_info": {
   "codemirror_mode": {
    "name": "ipython",
    "version": 3
   },
   "file_extension": ".py",
   "mimetype": "text/x-python",
   "name": "python",
   "nbconvert_exporter": "python",
   "pygments_lexer": "ipython3",
   "version": "3.11.12"
  }
 },
 "nbformat": 4,
 "nbformat_minor": 5
}
