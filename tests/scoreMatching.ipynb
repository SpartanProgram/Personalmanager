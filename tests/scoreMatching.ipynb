{
 "cells": [
  {
   "cell_type": "code",
   "execution_count": 1,
   "id": "70073158",
   "metadata": {},
   "outputs": [],
   "source": [
    "import pandas as pd"
   ]
  },
  {
   "cell_type": "code",
   "execution_count": 2,
   "id": "dc8ab590",
   "metadata": {},
   "outputs": [],
   "source": [
    "# CSVs laden\n",
    "personen_df = pd.read_csv(\"../data/personen.csv\")\n",
    "teilaufgaben_df = pd.read_csv(\"../data/teilaufgaben.csv\")\n",
    "projekte_df = pd.read_csv(\"../data/projekte.csv\")"
   ]
  },
  {
   "cell_type": "code",
   "execution_count": 3,
   "id": "51bd6792",
   "metadata": {},
   "outputs": [],
   "source": [
    "# Kompetenzspalte vorbereiten\n",
    "personen_df[\"kompetenzen_liste\"] = personen_df[\"kompetenzen\"].str.split(\", \")"
   ]
  },
  {
   "cell_type": "code",
   "execution_count": 4,
   "id": "e93d6a78",
   "metadata": {},
   "outputs": [],
   "source": [
    "# Belegungstracker: person_id → monat (z. B. \"03/2025\") → belegte Kapazität\n",
    "belegungen = {}"
   ]
  },
  {
   "cell_type": "code",
   "execution_count": 4,
   "id": "ad1071d7",
   "metadata": {},
   "outputs": [],
   "source": [
    "# Matching-Funktion\n",
    "matching_ergebnisse = []\n",
    "\n",
    "for _, ta in teilaufgaben_df.iterrows():\n",
    "    ta_start = int(ta[\"start\"].split(\"/\")[0])\n",
    "    ta_ende = int(ta[\"ende\"].split(\"/\")[0])\n",
    "    kandidaten = []\n",
    "\n",
    "    for _, person in personen_df.iterrows():\n",
    "        if ta[\"kompetenz\"] not in person[\"kompetenzen_liste\"]:\n",
    "            continue\n",
    "\n",
    "        # Verfügbarkeit über Zeitfenster aufsummieren\n",
    "        verfuegbarkeit_summe = 0\n",
    "        for monat in range(ta_start, ta_ende + 1):\n",
    "            col = f\"verfuegbarkeit_{monat:02d}/2025\"\n",
    "            if col in personen_df.columns:\n",
    "                verfuegbarkeit_summe += person[col]\n",
    "                \n",
    "        score = round(verfuegbarkeit_summe * person[\"zeitbudget\"], 2)\n",
    "\n",
    "        kandidaten.append({\n",
    "            \"projekt_id\": ta[\"projekt_id\"],\n",
    "            \"teilaufgabe_id\": ta[\"teilaufgabe_id\"],\n",
    "            \"teilaufgabe\": ta[\"bezeichnung\"],\n",
    "            \"kompetenz\": ta[\"kompetenz\"],\n",
    "            \"person_id\": person[\"id\"],\n",
    "            \"name\": person[\"name\"],\n",
    "            \"score\": score,\n",
    "            \"verfuegbarkeit_summe\": round(verfuegbarkeit_summe, 2)\n",
    "        })\n",
    "\n",
    "    top_kandidaten = sorted(kandidaten, key=lambda x: x[\"score\"], reverse=True)[:3]\n",
    "    matching_ergebnisse.extend(top_kandidaten)\n"
   ]
  },
  {
   "cell_type": "code",
   "execution_count": 5,
   "id": "99d78475",
   "metadata": {},
   "outputs": [],
   "source": [
    "# Ergebnisliste\n",
    "matching_ergebnisse = []\n",
    "\n",
    "for _, ta in teilaufgaben_df.iterrows():\n",
    "    ta_start = int(ta[\"start\"].split(\"/\")[0])\n",
    "    ta_ende = int(ta[\"ende\"].split(\"/\")[0])\n",
    "    ta_monate = ta_ende - ta_start + 1\n",
    "    ta_monatsaufwand = ta[\"aufwand\"] / ta_monate  # gleichmäßige Verteilung\n",
    "\n",
    "    kandidaten = []\n",
    "\n",
    "    for _, person in personen_df.iterrows():\n",
    "        if ta[\"kompetenz\"] not in person[\"kompetenzen_liste\"]:\n",
    "            continue\n",
    "\n",
    "        person_id = person[\"id\"]\n",
    "        ausreichend_frei = True\n",
    "        verfügbarkeit_summe = 0\n",
    "\n",
    "        for monat in range(ta_start, ta_ende + 1):\n",
    "            monat_label = f\"{monat:02d}/2025\"\n",
    "            verfügbarkeit = person.get(f\"verfuegbarkeit_{monat_label}\", 0)\n",
    "            verbraucht = belegungen.get(person_id, {}).get(monat_label, 0)\n",
    "            rest = verfügbarkeit - verbraucht\n",
    "\n",
    "            if rest < ta_monatsaufwand:\n",
    "                ausreichend_frei = False\n",
    "                break\n",
    "            verfügbarkeit_summe += rest\n",
    "\n",
    "        if ausreichend_frei:\n",
    "            score = round(verfügbarkeit_summe * person[\"zeitbudget\"], 2)\n",
    "            kandidaten.append({\n",
    "                \"projekt_id\": ta[\"projekt_id\"],\n",
    "                \"teilaufgabe_id\": ta[\"teilaufgabe_id\"],\n",
    "                \"teilaufgabe\": ta[\"bezeichnung\"],\n",
    "                \"kompetenz\": ta[\"kompetenz\"],\n",
    "                \"person_id\": person_id,\n",
    "                \"name\": person[\"name\"],\n",
    "                \"score\": score,\n",
    "                \"verfuegbarkeit_summe\": round(verfügbarkeit_summe, 2)\n",
    "            })\n",
    "\n",
    "    # Beste Kandidaten wählen\n",
    "    top_kandidaten = sorted(kandidaten, key=lambda x: x[\"score\"], reverse=True)[:3]\n",
    "\n",
    "    # Belegung eintragen\n",
    "    for kandidat in top_kandidaten:\n",
    "        pid = kandidat[\"person_id\"]\n",
    "        if pid not in belegungen:\n",
    "            belegungen[pid] = {}\n",
    "        for monat in range(ta_start, ta_ende + 1):\n",
    "            monat_label = f\"{monat:02d}/2025\"\n",
    "            belegungen[pid][monat_label] = belegungen[pid].get(monat_label, 0) + ta_monatsaufwand\n",
    "\n",
    "    matching_ergebnisse.extend(top_kandidaten)\n"
   ]
  },
  {
   "cell_type": "code",
   "execution_count": 6,
   "id": "b755e3a1",
   "metadata": {},
   "outputs": [
    {
     "name": "stdout",
     "output_type": "stream",
     "text": [
      "Matching abgeschlossen – Ergebnisse gespeichert in 'matching_ergebnis.csv'\n"
     ]
    }
   ],
   "source": [
    "# Ergebnis speichern\n",
    "pd.DataFrame(matching_ergebnisse).to_csv(\"matching_ergebnis.csv\", index=False)\n",
    "print(\"Matching abgeschlossen – Ergebnisse gespeichert in 'matching_ergebnis.csv'\")"
   ]
  },
  {
   "cell_type": "code",
   "execution_count": null,
   "id": "676853e1",
   "metadata": {},
   "outputs": [],
   "source": []
  }
 ],
 "metadata": {
  "kernelspec": {
   "display_name": ".venv",
   "language": "python",
   "name": "python3"
  },
  "language_info": {
   "codemirror_mode": {
    "name": "ipython",
    "version": 3
   },
   "file_extension": ".py",
   "mimetype": "text/x-python",
   "name": "python",
   "nbconvert_exporter": "python",
   "pygments_lexer": "ipython3",
   "version": "3.11.9"
  }
 },
 "nbformat": 4,
 "nbformat_minor": 5
}
