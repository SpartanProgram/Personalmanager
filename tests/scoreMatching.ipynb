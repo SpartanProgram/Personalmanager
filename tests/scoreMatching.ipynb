{
 "cells": [
  {
   "cell_type": "code",
   "execution_count": 13,
   "id": "70073158",
   "metadata": {},
   "outputs": [],
   "source": [
    "import pandas as pd"
   ]
  },
  {
   "cell_type": "code",
   "execution_count": 14,
   "id": "c6f6988b",
   "metadata": {},
   "outputs": [],
   "source": [
    "# Daten laden\n",
    "personen_df = pd.read_csv(\"../data/personen.csv\")\n",
    "teilaufgaben_df = pd.read_csv(\"../data/teilaufgaben.csv\")"
   ]
  },
  {
   "cell_type": "code",
   "execution_count": 2,
   "id": "dc8ab590",
   "metadata": {},
   "outputs": [],
   "source": [
    "# CSVs laden\n",
    "personen_df = pd.read_csv(\"../data/personen.csv\")\n",
    "teilaufgaben_df = pd.read_csv(\"../data/teilaufgaben.csv\")\n",
    "projekte_df = pd.read_csv(\"../data/projekte.csv\")"
   ]
  },
  {
   "cell_type": "code",
   "execution_count": 15,
   "id": "51bd6792",
   "metadata": {},
   "outputs": [],
   "source": [
    "# Kompetenzspalte vorbereiten\n",
    "personen_df[\"kompetenzen_liste\"] = personen_df[\"kompetenzen\"].str.split(\",\\s*\")"
   ]
  },
  {
   "cell_type": "code",
   "execution_count": 16,
   "id": "e93d6a78",
   "metadata": {},
   "outputs": [],
   "source": [
    "# Belegungstracker: person_id → monat (z. B. \"03/2025\") → belegte Kapazität\n",
    "belegungen = {}"
   ]
  },
  {
   "cell_type": "code",
   "execution_count": 18,
   "id": "f1642530",
   "metadata": {},
   "outputs": [],
   "source": [
    "# Ergebnisse\n",
    "matching_ergebnisse = []\n",
    "\n",
    "for _, ta in teilaufgaben_df.iterrows():\n",
    "    ta_start = int(ta[\"start\"].split(\"/\")[0])\n",
    "    ta_ende = int(ta[\"ende\"].split(\"/\")[0])\n",
    "    ta_monate = ta_ende - ta_start + 1\n",
    "    ta_monatsaufwand = ta[\"aufwand\"] / ta_monate\n",
    "    restaufwand = ta[\"aufwand\"]\n",
    "\n",
    "    kandidaten = []\n",
    "\n",
    "    # Filtere Personen nach Kompetenz\n",
    "    for _, person in personen_df.iterrows():\n",
    "        if ta[\"kompetenz\"] not in person[\"kompetenzen_liste\"]:\n",
    "            continue\n",
    "\n",
    "        person_id = person[\"id\"]\n",
    "        verfügbar = True\n",
    "        verfügbarkeit_summe = 0\n",
    "\n",
    "        for monat in range(ta_start, ta_ende + 1):\n",
    "            monat_label = f\"{monat:02d}/2025\"\n",
    "            verfügbarkeit = person.get(f\"verfuegbarkeit_{monat_label}\", 0)\n",
    "            belegt = belegungen.get(person_id, {}).get(monat_label, 0)\n",
    "            rest = verfügbarkeit - belegt\n",
    "            if rest <= 0:\n",
    "                verfügbar = False\n",
    "                break\n",
    "            verfügbarkeit_summe += rest\n",
    "\n",
    "        if verfügbar and verfügbarkeit_summe > 0:\n",
    "            score = round(verfügbarkeit_summe * person[\"zeitbudget\"], 2)\n",
    "            kandidaten.append((person, score, verfügbarkeit_summe))\n",
    "\n",
    "    # Sortiere nach bester nutzbarer Kapazität\n",
    "    kandidaten = sorted(kandidaten, key=lambda x: x[1], reverse=True)\n",
    "\n",
    "    for person, score, verf_summe in kandidaten:\n",
    "        if restaufwand <= 0:\n",
    "            break\n",
    "\n",
    "        pid = person[\"id\"]\n",
    "        if pid not in belegungen:\n",
    "            belegungen[pid] = {}\n",
    "\n",
    "        verfügbarkeit_gesamt = 0\n",
    "        eintrag_monate = {}\n",
    "        for monat in range(ta_start, ta_ende + 1):\n",
    "            monat_label = f\"{monat:02d}/2025\"\n",
    "            verfügbar = person[f\"verfuegbarkeit_{monat_label}\"]\n",
    "            belegt = belegungen[pid].get(monat_label, 0)\n",
    "            rest = max(0, verfügbar - belegt)\n",
    "            eintrag_monate[monat_label] = rest\n",
    "            verfügbarkeit_gesamt += rest\n",
    "\n",
    "        if verfügbarkeit_gesamt == 0:\n",
    "            continue\n",
    "\n",
    "        anteil = min(restaufwand, verfügbarkeit_gesamt)\n",
    "        monatsanteil = anteil / ta_monate\n",
    "\n",
    "        # Zuweisung speichern\n",
    "        matching_ergebnisse.append({\n",
    "            \"teilaufgabe_id\": ta[\"teilaufgabe_id\"],\n",
    "            \"teilaufgabe\": ta[\"bezeichnung\"],\n",
    "            \"projekt_id\": ta[\"projekt_id\"],\n",
    "            \"kompetenz\": ta[\"kompetenz\"],\n",
    "            \"person_id\": pid,\n",
    "            \"name\": person[\"name\"],\n",
    "            \"zugewiesener_aufwand\": round(anteil, 2)\n",
    "        })\n",
    "\n",
    "        # Tracker aktualisieren\n",
    "        for monat_label in eintrag_monate:\n",
    "            verbrauch = min(monatsanteil, eintrag_monate[monat_label])\n",
    "            belegungen[pid][monat_label] = belegungen[pid].get(monat_label, 0) + verbrauch\n",
    "\n",
    "        restaufwand -= anteil"
   ]
  },
  {
   "cell_type": "code",
   "execution_count": null,
   "id": "4bbe675a",
   "metadata": {},
   "outputs": [
    {
     "name": "stdout",
     "output_type": "stream",
     "text": [
      "Verfügbare Kandidaten für: Thermodynamische Bewertung → 17\n"
     ]
    }
   ],
   "source": [
    "print(f\"Verfügbare Kandidaten für: {ta['bezeichnung']} → {len(kandidaten)}\")"
   ]
  },
  {
   "cell_type": "code",
   "execution_count": 20,
   "id": "b755e3a1",
   "metadata": {},
   "outputs": [
    {
     "name": "stdout",
     "output_type": "stream",
     "text": [
      "Matching abgeschlossen! Ergebnisse gespeichert in 'matching_ergebnis.csv'\n"
     ]
    }
   ],
   "source": [
    "# Ergebnis speichern\n",
    "df_matching = pd.DataFrame(matching_ergebnisse)\n",
    "df_matching.to_csv(\"matching_ergebnis.csv\", index=False)\n",
    "print(\"Matching abgeschlossen! Ergebnisse gespeichert in 'matching_ergebnis.csv'\")"
   ]
  },
  {
   "cell_type": "code",
   "execution_count": null,
   "id": "676853e1",
   "metadata": {},
   "outputs": [],
   "source": []
  }
 ],
 "metadata": {
  "kernelspec": {
   "display_name": ".cenv",
   "language": "python",
   "name": "python3"
  },
  "language_info": {
   "codemirror_mode": {
    "name": "ipython",
    "version": 3
   },
   "file_extension": ".py",
   "mimetype": "text/x-python",
   "name": "python",
   "nbconvert_exporter": "python",
   "pygments_lexer": "ipython3",
   "version": "3.11.12"
  }
 },
 "nbformat": 4,
 "nbformat_minor": 5
}
