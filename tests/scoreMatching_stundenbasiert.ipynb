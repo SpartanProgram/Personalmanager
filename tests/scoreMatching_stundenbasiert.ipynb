{
 "cells": [
  {
   "cell_type": "code",
   "execution_count": 1,
   "id": "70073158",
   "metadata": {},
   "outputs": [],
   "source": [
    "from datetime import datetime, timedelta\n",
    "import pandas as pd"
   ]
  },
  {
   "cell_type": "markdown",
   "id": "8e4d1659",
   "metadata": {},
   "source": [
    "Daten laden und vorbereiten"
   ]
  },
  {
   "cell_type": "code",
   "execution_count": 2,
   "id": "dc8ab590",
   "metadata": {},
   "outputs": [],
   "source": [
    "# Lade die CSV-Dateien mit Personen, Teilaufgaben und Projekten\n",
    "personen_df = pd.read_csv(\"../data/personen.csv\")\n",
    "teilaufgaben_df = pd.read_csv(\"../data/teilaufgaben.csv\")"
   ]
  },
  {
   "cell_type": "code",
   "execution_count": 3,
   "id": "51bd6792",
   "metadata": {},
   "outputs": [],
   "source": [
    "# Wandle die Kompetenzen in eine Liste um, um Filterung zu erleichtern\n",
    "personen_df[\"kompetenzen_liste\"] = personen_df[\"kompetenzen\"].str.split(r\",\\s*\")"
   ]
  },
  {
   "cell_type": "markdown",
   "id": "9169bcff",
   "metadata": {},
   "source": [
    "Initialisierung"
   ]
  },
  {
   "cell_type": "code",
   "execution_count": 4,
   "id": "e93d6a78",
   "metadata": {},
   "outputs": [],
   "source": [
    "# Belegungstracker: Speichert die bereits verplante Kapazität je Person und Monat\n",
    "belegungen = {}"
   ]
  },
  {
   "cell_type": "code",
   "execution_count": 5,
   "id": "9017ad31",
   "metadata": {},
   "outputs": [
    {
     "name": "stdout",
     "output_type": "stream",
     "text": [
      "Verfügbare Kandidaten für: Entwurf CAD-Baugruppe → 16\n",
      "Verfügbare Kandidaten für: Simulation FEM-Struktur → 18\n",
      "Verfügbare Kandidaten für: Signalverarbeitung Sensor → 12\n",
      "Verfügbare Kandidaten für: Entwicklung Python-Modul → 10\n",
      "Verfügbare Kandidaten für: Statistische Auswertung → 11\n",
      "Verfügbare Kandidaten für: Optische Analyse → 14\n",
      "Verfügbare Kandidaten für: Datenbankmodellierung → 15\n",
      "Verfügbare Kandidaten für: Thermodynamische Bewertung → 12\n"
     ]
    }
   ],
   "source": [
    "\n",
    "# Neue Hauptlogik – stundenbasierte Verplanung ohne projektbasierte Blockierung\n",
    "\n",
    "# Vorbereitung\n",
    "belegungen = {}\n",
    "matching_ergebnisse = []\n",
    "\n",
    "for _, ta in teilaufgaben_df.iterrows():\n",
    "    ta_start = int(ta[\"start\"].split(\"/\")[0])\n",
    "    ta_ende = int(ta[\"ende\"].split(\"/\")[0])\n",
    "    ta_monate = ta_ende - ta_start + 1\n",
    "    aufwand_stunden = int(ta[\"aufwand\"] * 160)  # PM → Stunden\n",
    "    reststunden = aufwand_stunden\n",
    "    kandidaten = []\n",
    "\n",
    "    # Filtere Personen nach Kompetenz\n",
    "    for _, person in personen_df.iterrows():\n",
    "        if ta[\"kompetenz\"] not in person[\"kompetenzen_liste\"]:\n",
    "            continue\n",
    "\n",
    "        # Summe verfügbarer Stunden in Zeitraum\n",
    "        verf_stunden = 0\n",
    "        monatliche_reststunden = {}\n",
    "        for monat in range(ta_start, ta_ende + 1):\n",
    "            monat_label = f\"{monat:02d}/2025\"\n",
    "            verf_monat_pm = person.get(f\"verfuegbarkeit_{monat_label}\", 0)\n",
    "            verf_monat_h = verf_monat_pm * 160\n",
    "            belegt_monat_h = belegungen.get(person[\"id\"], {}).get(monat_label, 0)\n",
    "            rest = max(0, verf_monat_h - belegt_monat_h)\n",
    "            monatliche_reststunden[monat_label] = rest\n",
    "            verf_stunden += rest\n",
    "\n",
    "        if verf_stunden > 0:\n",
    "            kandidaten.append((person, verf_stunden, monatliche_reststunden))\n",
    "\n",
    "    # Sortierung: wer hat mehr Stunden verfügbar\n",
    "    kandidaten = sorted(kandidaten, key=lambda x: x[1], reverse=True)\n",
    "\n",
    "    # Zuweisung\n",
    "    for person, verf_stunden, rest_by_month in kandidaten:\n",
    "        if reststunden <= 0:\n",
    "            break\n",
    "\n",
    "        pid = person[\"id\"]\n",
    "        belegungen.setdefault(pid, {})\n",
    "        anteil_stunden = min(reststunden, verf_stunden)\n",
    "\n",
    "        # Gleichmäßig über Monate verteilen\n",
    "        stunden_verplant = 0\n",
    "        for monat_label in rest_by_month:\n",
    "            monat_rest = rest_by_month[monat_label]\n",
    "            if monat_rest <= 0:\n",
    "                continue\n",
    "            zuweisung = min(monat_rest, anteil_stunden - stunden_verplant)\n",
    "            if zuweisung <= 0:\n",
    "                continue\n",
    "            belegungen[pid][monat_label] = belegungen[pid].get(monat_label, 0) + zuweisung\n",
    "            stunden_verplant += zuweisung\n",
    "            if stunden_verplant >= anteil_stunden:\n",
    "                break\n",
    "\n",
    "        matching_ergebnisse.append({\n",
    "            \"teilaufgabe_id\": ta[\"teilaufgabe_id\"],\n",
    "            \"teilaufgabe\": ta[\"bezeichnung\"],\n",
    "            \"projekt_id\": ta[\"projekt_id\"],\n",
    "            \"kompetenz\": ta[\"kompetenz\"],\n",
    "            \"person_id\": pid,\n",
    "            \"name\": person[\"name\"],\n",
    "            \"zugewiesene_stunden\": stunden_verplant,\n",
    "            \"personentage\": round(stunden_verplant / 8, 2)\n",
    "        })\n",
    "\n",
    "        reststunden -= stunden_verplant\n",
    "\n",
    "    print(f\"Verfügbare Kandidaten für: {ta['bezeichnung']} → {len(kandidaten)}\")\n"
   ]
  },
  {
   "cell_type": "markdown",
   "id": "f647ac25",
   "metadata": {},
   "source": [
    "Matching-Logik"
   ]
  },
  {
   "cell_type": "code",
   "execution_count": 6,
   "id": "d9c544a5",
   "metadata": {},
   "outputs": [],
   "source": [
    "def berechne_verfuegbarkeit(person, ta_start, ta_ende, belegungen):\n",
    "    \"\"\"\n",
    "    Prüft die Verfügbarkeit einer Person für eine gegebene Zeitspanne.\n",
    "\n",
    "    Args:\n",
    "        person (pd.Series): Personendatensatz.\n",
    "        ta_start (int): Startmonat (numerisch).\n",
    "        ta_ende (int): Endmonat (numerisch).\n",
    "        belegungen (dict): Bisherige Belegungen.\n",
    "\n",
    "    Returns:\n",
    "        tuple: (bool verfügbar, float verfügbare Gesamtkapazität, dict verfügbarkeit je Monat)\n",
    "    \"\"\"\n",
    "    person_id = person[\"id\"]\n",
    "    verfügbar = True\n",
    "    verfügbarkeit_summe = 0\n",
    "    monatliche_restwerte = {}\n",
    "\n",
    "    for monat in range(ta_start, ta_ende + 1):\n",
    "        monat_label = f\"{monat:02d}/2025\"\n",
    "        \n",
    "        # Skip, wenn andere Projektbelegung vorliegt\n",
    "        belegung_label = f\"projektbelegung_{monat_label}\"\n",
    "        aktuelle_belegung = person.get(belegung_label, \"Frei\")\n",
    "        if aktuelle_belegung not in [\"Frei\", ta[\"projekt_id\"]]:\n",
    "            rest = 0\n",
    "        else:\n",
    "            verfügbarkeit = person.get(f\"verfuegbarkeit_{monat_label}\", 0)\n",
    "            belegt = belegungen.get(person_id, {}).get(monat_label, 0)\n",
    "            rest = max(0, verfügbarkeit - belegt)\n",
    "\n",
    "        monatliche_restwerte[monat_label] = rest\n",
    "\n",
    "        if rest <= 0:\n",
    "            verfügbar = False\n",
    "            break\n",
    "        verfügbarkeit_summe += rest\n",
    "\n",
    "    return verfügbar, verfügbarkeit_summe, monatliche_restwerte\n"
   ]
  },
  {
   "cell_type": "code",
   "execution_count": 7,
   "id": "011efc21",
   "metadata": {},
   "outputs": [
    {
     "name": "stdout",
     "output_type": "stream",
     "text": [
      "Verfügbare Kandidaten für: Entwurf CAD-Baugruppe → 0\n",
      "Verfügbare Kandidaten für: Simulation FEM-Struktur → 0\n",
      "Verfügbare Kandidaten für: Signalverarbeitung Sensor → 0\n",
      "Verfügbare Kandidaten für: Entwicklung Python-Modul → 0\n",
      "Verfügbare Kandidaten für: Statistische Auswertung → 0\n",
      "Verfügbare Kandidaten für: Optische Analyse → 0\n",
      "Verfügbare Kandidaten für: Datenbankmodellierung → 0\n",
      "Verfügbare Kandidaten für: Thermodynamische Bewertung → 0\n"
     ]
    }
   ],
   "source": [
    "# Hauptloop über alle Teilaufgaben\n",
    "for _, ta in teilaufgaben_df.iterrows():\n",
    "    ta_start = int(ta[\"start\"].split(\"/\")[0])\n",
    "    ta_ende = int(ta[\"ende\"].split(\"/\")[0])\n",
    "    ta_monate = ta_ende - ta_start + 1\n",
    "    ta_monatsaufwand = ta[\"aufwand\"] / ta_monate\n",
    "    restaufwand = ta[\"aufwand\"]\n",
    "    kandidaten = []\n",
    "\n",
    "    # Filtere Personen, die die benötigte Kompetenz besitzen\n",
    "    for _, person in personen_df.iterrows():\n",
    "        if ta[\"kompetenz\"] not in person[\"kompetenzen_liste\"]:\n",
    "            continue\n",
    "\n",
    "        verfügbar, verf_summe, monatliche_restwerte = berechne_verfuegbarkeit(person, ta_start, ta_ende, belegungen)\n",
    "\n",
    "        if verfügbar and verf_summe > 0:\n",
    "            score = round(verf_summe * person[\"zeitbudget\"], 2)\n",
    "            kandidaten.append((person, score, verf_summe, monatliche_restwerte))\n",
    "\n",
    "    # Sortiere Kandidaten nach ihrer nutzbaren Kapazität (absteigend)\n",
    "    kandidaten = sorted(kandidaten, key=lambda x: x[1], reverse=True)\n",
    "\n",
    "    # Weise Kapazität zu, bis Aufwand gedeckt ist oder keine Ressourcen mehr vorhanden\n",
    "    for person, score, verf_summe, eintrag_monate in kandidaten:\n",
    "        if restaufwand <= 0:\n",
    "            break\n",
    "\n",
    "        pid = person[\"id\"]\n",
    "        if pid not in belegungen:\n",
    "            belegungen[pid] = {}\n",
    "\n",
    "        verfügbarkeit_gesamt = sum(eintrag_monate.values())\n",
    "        if verfügbarkeit_gesamt == 0:\n",
    "            continue\n",
    "\n",
    "        anteil = min(restaufwand, verfügbarkeit_gesamt)\n",
    "        monatsanteil = anteil / ta_monate\n",
    "\n",
    "        # Speichere Matching-Ergebnis\n",
    "        matching_ergebnisse.append({\n",
    "            \"teilaufgabe_id\": ta[\"teilaufgabe_id\"],\n",
    "            \"teilaufgabe\": ta[\"bezeichnung\"],\n",
    "            \"projekt_id\": ta[\"projekt_id\"],\n",
    "            \"kompetenz\": ta[\"kompetenz\"],\n",
    "            \"person_id\": pid,\n",
    "            \"name\": person[\"name\"],\n",
    "            \"zugewiesener_aufwand\": round(anteil, 2)\n",
    "        })\n",
    "\n",
    "        # Aktualisiere belegte Verfügbarkeiten\n",
    "        for monat_label in eintrag_monate:\n",
    "            verbrauch = min(monatsanteil, eintrag_monate[monat_label])\n",
    "            belegungen[pid][monat_label] = belegungen[pid].get(monat_label, 0) + verbrauch\n",
    "\n",
    "        restaufwand -= anteil\n",
    "\n",
    "    print(f\"Verfügbare Kandidaten für: {ta['bezeichnung']} → {len(kandidaten)}\")\n"
   ]
  },
  {
   "cell_type": "markdown",
   "id": "392d4264",
   "metadata": {},
   "source": [
    "Ergebnisse speichern"
   ]
  },
  {
   "cell_type": "code",
   "execution_count": 8,
   "id": "b755e3a1",
   "metadata": {},
   "outputs": [
    {
     "name": "stdout",
     "output_type": "stream",
     "text": [
      "Matching abgeschlossen! Ergebnisse gespeichert in 'matching_ergebnis.csv'\n"
     ]
    }
   ],
   "source": [
    "df_matching = pd.DataFrame(matching_ergebnisse)\n",
    "df_matching.to_csv(\"matching_ergebnis.csv\", index=False)\n",
    "print(\"Matching abgeschlossen! Ergebnisse gespeichert in 'matching_ergebnis.csv'\")"
   ]
  },
  {
   "cell_type": "markdown",
   "id": "a0726e0b",
   "metadata": {},
   "source": [
    "Neue Liste für Gantt-Daten"
   ]
  },
  {
   "cell_type": "code",
   "execution_count": 9,
   "id": "f93a65e4",
   "metadata": {},
   "outputs": [],
   "source": [
    "df_gantt = []"
   ]
  },
  {
   "cell_type": "markdown",
   "id": "d9b3c72c",
   "metadata": {},
   "source": [
    "Vorbereitung Gantt-Diagramm"
   ]
  },
  {
   "cell_type": "code",
   "execution_count": 10,
   "id": "6b505caa",
   "metadata": {},
   "outputs": [],
   "source": [
    "for eintrag in matching_ergebnisse:\n",
    "    ta = teilaufgaben_df[teilaufgaben_df[\"teilaufgabe_id\"] == eintrag[\"teilaufgabe_id\"]].iloc[0]\n",
    "    person = personen_df[personen_df[\"id\"] == eintrag[\"person_id\"]].iloc[0]\n",
    "\n",
    "    person_id = person[\"id\"]\n",
    "    name = person[\"name\"]\n",
    "    aufgabe = ta[\"bezeichnung\"]\n",
    "    aufwand_stunden = eintrag[\"zugewiesene_stunden\"]\n",
    "\n",
    "    stunden_gesamt = int(aufwand_stunden * 160)\n",
    "    reststunden = stunden_gesamt\n",
    "\n",
    "    start_monat = int(ta[\"start\"].split(\"/\")[0])\n",
    "    end_monat = int(ta[\"ende\"].split(\"/\")[0])\n",
    "\n",
    "    start_date = datetime(2025, start_monat, 1)\n",
    "    end_date = datetime(2025, end_monat, 28)\n",
    "\n",
    "    aktuelles_datum = start_date\n",
    "    block_start = None\n",
    "    block_stunden = 0\n",
    "\n",
    "    while aktuelles_datum <= end_date and reststunden > 0:\n",
    "        monat_label = aktuelles_datum.strftime(\"%m/2025\")\n",
    "        verfuegbarkeit = person.get(f\"verfuegbarkeit_{monat_label}\", 0)\n",
    "        bereits_belegt = belegungen.get(person_id, {}).get(monat_label, 0)\n",
    "\n",
    "        if verfuegbarkeit - bereits_belegt <= 0:\n",
    "            # kein Spielraum → neuen Block abschließen\n",
    "            if block_start:\n",
    "                block_ende = aktuelles_datum\n",
    "                df_gantt.append({\n",
    "                    \"Aufgabe\": aufgabe,\n",
    "                    \"Person\": name,\n",
    "                    \"Start\": block_start,\n",
    "                    \"Ende\": block_ende,\n",
    "                    \"Stunden\": block_stunden\n",
    "                })\n",
    "                block_start = None\n",
    "                block_stunden = 0\n",
    "            aktuelles_datum += timedelta(days=1)\n",
    "            continue\n",
    "\n",
    "        if block_start is None:\n",
    "            block_start = aktuelles_datum\n",
    "\n",
    "        # plane 1 Arbeitstag (8h)\n",
    "        df_tag = aktuelles_datum\n",
    "        belegungen.setdefault(person_id, {})\n",
    "        belegungen[person_id][monat_label] = belegungen[person_id].get(monat_label, 0) + (8 / 160)\n",
    "        block_stunden += 8\n",
    "        reststunden -= 8\n",
    "        aktuelles_datum += timedelta(days=1)\n",
    "\n",
    "    # letztes offenes Zeitfenster speichern\n",
    "    if block_start and block_stunden > 0:\n",
    "        df_gantt.append({\n",
    "            \"Aufgabe\": aufgabe,\n",
    "            \"Person\": name,\n",
    "            \"Start\": block_start,\n",
    "            \"Ende\": aktuelles_datum,\n",
    "            \"Stunden\": block_stunden\n",
    "        })"
   ]
  },
  {
   "cell_type": "markdown",
   "id": "5e056160",
   "metadata": {},
   "source": [
    "Speichere Gantt-Daten"
   ]
  },
  {
   "cell_type": "code",
   "execution_count": 11,
   "id": "ea82b93e",
   "metadata": {},
   "outputs": [
    {
     "name": "stdout",
     "output_type": "stream",
     "text": [
      "Gantt-Daten gespeichert in 'gantt_daten.csv'\n"
     ]
    }
   ],
   "source": [
    "pd.DataFrame(df_gantt).to_csv(\"gantt_daten.csv\", index=False)\n",
    "print(\"Gantt-Daten gespeichert in 'gantt_daten.csv'\")"
   ]
  },
  {
   "cell_type": "markdown",
   "id": "bd0ddde0",
   "metadata": {},
   "source": [
    "Berechnung des Effizienz-Scores"
   ]
  },
  {
   "cell_type": "code",
   "execution_count": null,
   "id": "3aab29fd",
   "metadata": {},
   "outputs": [],
   "source": [
    "def berechne_effizienz_score(zuweisungen_df):\n",
    "    \"\"\"Berechnet eine Effizienzmetrik basierend auf Anzahl Mitarbeiter und Pausenzeiten.\"\"\"\n",
    "    # Nur relevante Spalten verwenden: Mitarbeiter, Start, Ende\n",
    "    df = zuweisungen_df.copy()\n",
    "    df[\"start\"] = pd.to_datetime(df[\"start\"])\n",
    "    df[\"ende\"] = pd.to_datetime(df[\"ende\"])\n",
    "\n",
    "    # 1. Anzahl eingesetzter Mitarbeiter\n",
    "    eingesetzte_mitarbeiter = df[\"mitarbeiter\"].nunique()\n",
    "\n",
    "    # 2. Pausen pro Mitarbeiter berechnen\n",
    "    gesamtpause = timedelta(0)\n",
    "\n",
    "    for mid, gruppe in df.groupby(\"mitarbeiter\"):\n",
    "        gruppe = gruppe.sort_values(\"start\")\n",
    "        for i in range(1, len(gruppe)):\n",
    "            pause = gruppe.iloc[i][\"start\"] - gruppe.iloc[i - 1][\"ende\"]\n",
    "            if pause > timedelta(0):\n",
    "                gesamtpause += pause\n",
    "\n",
    "    # Effizienz-Score (je kleiner desto besser)\n",
    "    score = eingesetzte_mitarbeiter + gesamtpause.total_seconds() / 3600  # Pausen in Stunden\n",
    "\n",
    "    print(f\"Anzahl eingesetzter Mitarbeiter: {eingesetzte_mitarbeiter}\")\n",
    "    print(f\"Gesamte Pausenzeit: {gesamtpause}\")\n",
    "    print(f\"Effizienz-Score: {score:.2f}\")\n",
    "    return score\n",
    "\n",
    "# Beispielaufruf (ggf. anpassen je nach Struktur der Zuweisungstabelle)\n",
    "# ... berechne_effizienz_score(zuweisungen_df)\n"
   ]
  }
 ],
 "metadata": {
  "kernelspec": {
   "display_name": ".cenv",
   "language": "python",
   "name": "python3"
  },
  "language_info": {
   "codemirror_mode": {
    "name": "ipython",
    "version": 3
   },
   "file_extension": ".py",
   "mimetype": "text/x-python",
   "name": "python",
   "nbconvert_exporter": "python",
   "pygments_lexer": "ipython3",
   "version": "3.11.12"
  }
 },
 "nbformat": 4,
 "nbformat_minor": 5
}
